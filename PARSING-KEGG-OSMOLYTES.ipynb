{
 "cells": [
  {
   "cell_type": "code",
   "execution_count": 78,
   "metadata": {},
   "outputs": [],
   "source": [
    "import pandas as pd\n",
    "import re"
   ]
  },
  {
   "cell_type": "code",
   "execution_count": 97,
   "metadata": {},
   "outputs": [],
   "source": [
    "def read_in_compound():\n",
    "    KEGG_COMPOUND_FILE = '/vortexfs1/home/halexander/KEGG/ligand/compound/compound'\n",
    "    KEGG_COMPOUND_DICT = {}\n",
    "    Cnum = {}\n",
    "    with open (KEGG_COMPOUND_FILE) as f:\n",
    "        for i, line in enumerate(f):\n",
    "    #         if i==10000:\n",
    "    #             break\n",
    "            if line.startswith('///'):\n",
    "                for key in ['BRITE', 'DBLINKS','ATOM','BOND','BRACKET','REMARK']:\n",
    "                    if key in Cnum:\n",
    "                        Cnum.pop(key)\n",
    "                KEGG_COMPOUND_DICT[Cnum['ENTRY']]=Cnum\n",
    "                Cnum={}\n",
    "\n",
    "            elif re.match('^[A-Z]', line):\n",
    "                test=line.strip().split()\n",
    "                cat = test[0]\n",
    "                value = test[1:]\n",
    "                if cat == 'ENTRY':\n",
    "                    value=value[0]\n",
    "                if cat == 'PATHWAY':\n",
    "                    value=[value[0]]\n",
    "                if cat == 'MODULE':\n",
    "                    value=value[0]    \n",
    "            else:\n",
    "                test2 = line.strip().split()\n",
    "                if cat == 'ENTRY':\n",
    "                    value+=test2[0]\n",
    "                elif cat == 'PATHWAY':\n",
    "                    value+=[test2[0]]\n",
    "                elif cat == 'MODULE':\n",
    "                    value+=test2[0]\n",
    "                else:\n",
    "                    value+=test2\n",
    "            Cnum[cat]=value\n",
    "    return KEGG_COMPOUND_DICT\n",
    "KEGG_COMPOUND_DICT=read_in_compound()        "
   ]
  },
  {
   "cell_type": "code",
   "execution_count": 98,
   "metadata": {},
   "outputs": [
    {
     "data": {
      "text/plain": [
       "{'ENTRY': 'C00719',\n",
       " 'NAME': ['Betaine;',\n",
       "  'Trimethylaminoacetate;',\n",
       "  'Glycine',\n",
       "  'betaine;',\n",
       "  'N,N,N-Trimethylglycine;',\n",
       "  'Trimethylammonioacetate'],\n",
       " 'FORMULA': ['C5H11NO2'],\n",
       " 'EXACT_MASS': ['117.079'],\n",
       " 'MOL_WEIGHT': ['117.1463'],\n",
       " 'REACTION': ['R02565',\n",
       "  'R02566',\n",
       "  'R02821',\n",
       "  'R07228',\n",
       "  'R07244',\n",
       "  'R08211',\n",
       "  'R08212',\n",
       "  'R10061',\n",
       "  'R10062'],\n",
       " 'PATHWAY': ['map00260', 'map01100', 'map02010'],\n",
       " 'MODULE': 'M00555',\n",
       " 'ENZYME': ['1.1.3.17',\n",
       "  '1.2.1.8',\n",
       "  '1.21.4.4',\n",
       "  '2.1.1.5',\n",
       "  '2.1.1.157',\n",
       "  '2.1.1.161',\n",
       "  '2.1.1.162']}"
      ]
     },
     "execution_count": 98,
     "metadata": {},
     "output_type": "execute_result"
    }
   ],
   "source": [
    "KEGG_COMPOUND_DICT['C00719']"
   ]
  },
  {
   "cell_type": "code",
   "execution_count": 125,
   "metadata": {},
   "outputs": [],
   "source": [
    "def read_in_reaction():\n",
    "    KEGG_REACTION_FILE = '/vortexfs1/home/halexander/KEGG/ligand/reaction/reaction'\n",
    "    KEGG_REACTION_DICT = {}\n",
    "    Cnum = {}\n",
    "    with open (KEGG_REACTION_FILE) as f:\n",
    "        for i, line in enumerate(f):\n",
    "#             if i==10000:\n",
    "#                 break\n",
    "            if line.startswith('///'):\n",
    "                for key in ['BRITE', 'DBLINKS','ATOM','BOND','BRACKET','COMMENT']:\n",
    "                    if key in Cnum:\n",
    "                        Cnum.pop(key)\n",
    "\n",
    "                KEGG_REACTION_DICT[Cnum['ENTRY']]=Cnum\n",
    "                Cnum={}\n",
    "\n",
    "            elif re.match('^[A-Z]', line):\n",
    "                test=line.strip().split()\n",
    "                cat = test[0]\n",
    "                value = test[1:]\n",
    "                if cat == 'ENTRY':\n",
    "                    value=value[0]\n",
    "                if cat == 'NAME':\n",
    "                    value=[' '.join(value)]\n",
    "                if cat == 'ORTHOLOGY':\n",
    "                    value=[value[0]]\n",
    "                if cat == 'DEFINITION':\n",
    "                    value=' '.join(value)\n",
    "                if cat == 'EQUATION':\n",
    "                    value=' '.join(value)\n",
    "                if cat == 'PATHWAY':\n",
    "                    value=[value[0]]\n",
    "                if cat == 'MODULE':\n",
    "                    value=value[0]    \n",
    "            else:\n",
    "                test2 = line.strip().split()\n",
    "                if cat == 'ENTRY':\n",
    "                    value+=test2[0]\n",
    "                elif cat == 'PATHWAY':\n",
    "                    value+=[test2[0]]\n",
    "                elif cat == 'MODULE':\n",
    "                    value+=test2[0]\n",
    "                elif cat == 'ORTHOLOGY':\n",
    "                    value+=[test2[0]]\n",
    "                else:\n",
    "                    value+=test2\n",
    "            Cnum[cat]=value\n",
    "    return KEGG_REACTION_DICT\n",
    "KEGG_REACTION_DICT=read_in_reaction()"
   ]
  },
  {
   "cell_type": "code",
   "execution_count": 119,
   "metadata": {},
   "outputs": [
    {
     "data": {
      "text/plain": [
       "{'ORTHOLOGY': ['K00130', 'K14085'],\n",
       " 'ENTRY': 'R02566',\n",
       " 'NAME': ['p-Cumic alcohol:NADP+ oxidoreductase'],\n",
       " 'DEFINITION': 'Betaine aldehyde + NADP+ + H2O <=> Betaine + NADPH + 2 H+',\n",
       " 'EQUATION': 'C00576 + C00006 + C00001 <=> C00719 + C00005 + 2 C00080',\n",
       " 'RCLASS': ['RC00001', 'C00005_C00006', 'RC00080', 'C00576_C00719'],\n",
       " 'ENZYME': ['1.2.1.8'],\n",
       " 'PATHWAY': ['rn00260', 'rn01100'],\n",
       " 'MODULE': 'M00555'}"
      ]
     },
     "execution_count": 119,
     "metadata": {},
     "output_type": "execute_result"
    }
   ],
   "source": [
    "KEGG_REACTION_DICT['R02566']"
   ]
  },
  {
   "cell_type": "code",
   "execution_count": 151,
   "metadata": {},
   "outputs": [],
   "source": [
    "COMPOUND_LIST = ['C06231','C00719', 'C16432','C00334']\n",
    "for c in COMPOUND_LIST:\n",
    "    df=pd.DataFrame(columns=['DEFINITION', 'NAME', 'ENZYME', 'ORTHOLOGY'])\n",
    "    for R in KEGG_COMPOUND_DICT[c]['REACTION']:\n",
    "        KD=KEGG_REACTION_DICT[R]\n",
    "        if 'NAME' in KD:\n",
    "            df.loc[R,'NAME']=KD['NAME']\n",
    "        if 'ENZYME' in KD:\n",
    "            df.loc[R,'ENZYME']=KD['ENZYME']\n",
    "    \n",
    "        df.loc[R,'DEFINITION']=KD['DEFINITION']\n",
    "        if 'ORTHOLOGY' in KD:\n",
    "            df.loc[R,'ORTHOLOGY']=';'.join(KD['ORTHOLOGY'] )\n",
    "    df.to_csv(c+'-REACTION-INFO.txt', sep='\\t')"
   ]
  },
  {
   "cell_type": "code",
   "execution_count": 142,
   "metadata": {},
   "outputs": [],
   "source": []
  },
  {
   "cell_type": "code",
   "execution_count": null,
   "metadata": {},
   "outputs": [],
   "source": []
  }
 ],
 "metadata": {
  "kernelspec": {
   "display_name": "Python [conda env:.conda-python_lab] *",
   "language": "python",
   "name": "conda-env-.conda-python_lab-py"
  },
  "language_info": {
   "codemirror_mode": {
    "name": "ipython",
    "version": 3
   },
   "file_extension": ".py",
   "mimetype": "text/x-python",
   "name": "python",
   "nbconvert_exporter": "python",
   "pygments_lexer": "ipython3",
   "version": "3.7.3"
  }
 },
 "nbformat": 4,
 "nbformat_minor": 2
}
