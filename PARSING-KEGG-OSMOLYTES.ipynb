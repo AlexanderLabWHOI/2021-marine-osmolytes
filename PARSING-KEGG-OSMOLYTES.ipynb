{
 "cells": [
  {
   "cell_type": "code",
   "execution_count": 1,
   "metadata": {},
   "outputs": [],
   "source": [
    "import pandas as pd\n",
    "import re"
   ]
  },
  {
   "cell_type": "code",
   "execution_count": 2,
   "metadata": {},
   "outputs": [],
   "source": [
    "def read_in_compound():\n",
    "    KEGG_COMPOUND_FILE = '/vortexfs1/home/halexander/KEGG/ligand/compound/compound'\n",
    "    KEGG_COMPOUND_DICT = {}\n",
    "    Cnum = {}\n",
    "    with open (KEGG_COMPOUND_FILE) as f:\n",
    "        for i, line in enumerate(f):\n",
    "    #         if i==10000:\n",
    "    #             break\n",
    "            if line.startswith('///'):\n",
    "                for key in ['BRITE', 'DBLINKS','ATOM','BOND','BRACKET','REMARK']:\n",
    "                    if key in Cnum:\n",
    "                        Cnum.pop(key)\n",
    "                KEGG_COMPOUND_DICT[Cnum['ENTRY']]=Cnum\n",
    "                Cnum={}\n",
    "\n",
    "            elif re.match('^[A-Z]', line):\n",
    "                test=line.strip().split()\n",
    "                cat = test[0]\n",
    "                value = test[1:]\n",
    "                if cat == 'ENTRY':\n",
    "                    value=value[0]\n",
    "                if cat == 'PATHWAY':\n",
    "                    value=[value[0]]\n",
    "                if cat == 'MODULE':\n",
    "                    value=value[0]    \n",
    "            else:\n",
    "                test2 = line.strip().split()\n",
    "                if cat == 'ENTRY':\n",
    "                    value+=test2[0]\n",
    "                elif cat == 'PATHWAY':\n",
    "                    value+=[test2[0]]\n",
    "                elif cat == 'MODULE':\n",
    "                    value+=test2[0]\n",
    "                else:\n",
    "                    value+=test2\n",
    "            Cnum[cat]=value\n",
    "    return KEGG_COMPOUND_DICT\n",
    "KEGG_COMPOUND_DICT=read_in_compound()        "
   ]
  },
  {
   "cell_type": "code",
   "execution_count": 3,
   "metadata": {},
   "outputs": [
    {
     "data": {
      "text/plain": [
       "{'ENTRY': 'C00719',\n",
       " 'NAME': ['Betaine;',\n",
       "  'Trimethylaminoacetate;',\n",
       "  'Glycine',\n",
       "  'betaine;',\n",
       "  'N,N,N-Trimethylglycine;',\n",
       "  'Trimethylammonioacetate'],\n",
       " 'FORMULA': ['C5H11NO2'],\n",
       " 'EXACT_MASS': ['117.079'],\n",
       " 'MOL_WEIGHT': ['117.1463'],\n",
       " 'REACTION': ['R02565',\n",
       "  'R02566',\n",
       "  'R02821',\n",
       "  'R07228',\n",
       "  'R07244',\n",
       "  'R08211',\n",
       "  'R08212',\n",
       "  'R10061',\n",
       "  'R10062'],\n",
       " 'PATHWAY': ['map00260', 'map01100', 'map02010'],\n",
       " 'MODULE': 'M00555',\n",
       " 'ENZYME': ['1.1.3.17',\n",
       "  '1.2.1.8',\n",
       "  '1.21.4.4',\n",
       "  '2.1.1.5',\n",
       "  '2.1.1.157',\n",
       "  '2.1.1.161',\n",
       "  '2.1.1.162']}"
      ]
     },
     "execution_count": 3,
     "metadata": {},
     "output_type": "execute_result"
    }
   ],
   "source": [
    "KEGG_COMPOUND_DICT['C00719']"
   ]
  },
  {
   "cell_type": "code",
   "execution_count": 19,
   "metadata": {},
   "outputs": [],
   "source": [
    "def read_in_reaction():\n",
    "    KEGG_REACTION_FILE = '/vortexfs1/home/halexander/KEGG/ligand/reaction/reaction'\n",
    "    KEGG_REACTION_DICT = {}\n",
    "    Cnum = {}\n",
    "    with open (KEGG_REACTION_FILE) as f:\n",
    "        for i, line in enumerate(f):\n",
    "#             if i==10000:\n",
    "#                 break\n",
    "            if line.startswith('///'):\n",
    "                for key in ['BRITE', 'DBLINKS','ATOM','BOND','BRACKET','COMMENT']:\n",
    "                    if key in Cnum:\n",
    "                        Cnum.pop(key)\n",
    "\n",
    "                KEGG_REACTION_DICT[Cnum['ENTRY']]=Cnum\n",
    "                Cnum={}\n",
    "\n",
    "            elif re.match('^[A-Z]', line):\n",
    "                test=line.strip().split()\n",
    "                cat = test[0]\n",
    "                value = test[1:]\n",
    "                if cat == 'ENTRY':\n",
    "                    value=value[0]\n",
    "                if cat == 'NAME':\n",
    "                    value=[' '.join(value)]\n",
    "                if cat == 'ORTHOLOGY':\n",
    "                    value=[value[0]]\n",
    "                if cat == 'DEFINITION':\n",
    "                    value=' '.join(value)\n",
    "                if cat == 'EQUATION':\n",
    "                    value=' '.join(value)\n",
    "                if cat == 'PATHWAY':\n",
    "                    value=[value[0]]\n",
    "                if cat == 'MODULE':\n",
    "                    value=value[0]    \n",
    "            else:\n",
    "                test2 = line.strip().split()\n",
    "                if cat == 'ENTRY':\n",
    "                    value+=test2[0]\n",
    "                elif cat == 'PATHWAY':\n",
    "                    value+=[test2[0]]\n",
    "                elif cat == 'MODULE':\n",
    "                    value+=test2[0]\n",
    "                elif cat == 'ORTHOLOGY':\n",
    "                    value+=[test2[0]]\n",
    "                else:\n",
    "                    value+=test2\n",
    "            Cnum[cat]=value\n",
    "    return KEGG_REACTION_DICT\n",
    "KEGG_REACTION_DICT=read_in_reaction()"
   ]
  },
  {
   "cell_type": "code",
   "execution_count": 119,
   "metadata": {},
   "outputs": [
    {
     "data": {
      "text/plain": [
       "{'ORTHOLOGY': ['K00130', 'K14085'],\n",
       " 'ENTRY': 'R02566',\n",
       " 'NAME': ['p-Cumic alcohol:NADP+ oxidoreductase'],\n",
       " 'DEFINITION': 'Betaine aldehyde + NADP+ + H2O <=> Betaine + NADPH + 2 H+',\n",
       " 'EQUATION': 'C00576 + C00006 + C00001 <=> C00719 + C00005 + 2 C00080',\n",
       " 'RCLASS': ['RC00001', 'C00005_C00006', 'RC00080', 'C00576_C00719'],\n",
       " 'ENZYME': ['1.2.1.8'],\n",
       " 'PATHWAY': ['rn00260', 'rn01100'],\n",
       " 'MODULE': 'M00555'}"
      ]
     },
     "execution_count": 119,
     "metadata": {},
     "output_type": "execute_result"
    }
   ],
   "source": [
    "KEGG_REACTION_DICT['R02566']"
   ]
  },
  {
   "cell_type": "code",
   "execution_count": 151,
   "metadata": {},
   "outputs": [],
   "source": [
    "COMPOUND_LIST = ['C06231','C00719', 'C16432','C00334']\n",
    "for c in COMPOUND_LIST:\n",
    "    df=pd.DataFrame(columns=['DEFINITION', 'NAME', 'ENZYME', 'ORTHOLOGY'])\n",
    "    for R in KEGG_COMPOUND_DICT[c]['REACTION']:\n",
    "        KD=KEGG_REACTION_DICT[R]\n",
    "        if 'NAME' in KD:\n",
    "            df.loc[R,'NAME']=KD['NAME']\n",
    "        if 'ENZYME' in KD:\n",
    "            df.loc[R,'ENZYME']=KD['ENZYME']\n",
    "    \n",
    "        df.loc[R,'DEFINITION']=KD['DEFINITION']\n",
    "        if 'ORTHOLOGY' in KD:\n",
    "            df.loc[R,'ORTHOLOGY']=';'.join(KD['ORTHOLOGY'] )\n",
    "    df.to_csv(c+'-REACTION-INFO.txt', sep='\\t')"
   ]
  },
  {
   "cell_type": "code",
   "execution_count": 142,
   "metadata": {},
   "outputs": [],
   "source": []
  },
  {
   "cell_type": "code",
   "execution_count": 73,
   "metadata": {},
   "outputs": [],
   "source": [
    "compound_dict = {}\n",
    "with open('compound_list', 'r') as f:\n",
    "    for line in f:\n",
    "        ll =line.strip().split(',')\n",
    "        compound_dict[ll[0]] = ll[1]\n",
    "        "
   ]
  },
  {
   "cell_type": "code",
   "execution_count": 20,
   "metadata": {},
   "outputs": [],
   "source": [
    "for c in compound_dict.values():\n",
    "    df=pd.DataFrame(columns=['DEFINITION', 'NAME', 'ENZYME', 'ORTHOLOGY'])\n",
    "    for R in KEGG_COMPOUND_DICT[c]['REACTION']:\n",
    "        KD=KEGG_REACTION_DICT[R]\n",
    "        if 'NAME' in KD:\n",
    "            df.loc[R,'NAME']=KD['NAME']\n",
    "        if 'ENZYME' in KD:\n",
    "            df.loc[R,'ENZYME']=KD['ENZYME']\n",
    "    \n",
    "        df.loc[R,'DEFINITION']=KD['DEFINITION']\n",
    "        if 'ORTHOLOGY' in KD:\n",
    "            df.loc[R,'ORTHOLOGY']=';'.join(KD['ORTHOLOGY'] )\n",
    "    df.to_csv(c+'-REACTION-INFO.txt', sep='\\t')"
   ]
  },
  {
   "cell_type": "code",
   "execution_count": 22,
   "metadata": {},
   "outputs": [],
   "source": [
    "import os\n",
    "import glob\n"
   ]
  },
  {
   "cell_type": "code",
   "execution_count": 67,
   "metadata": {},
   "outputs": [],
   "source": [
    "# Automated parsing:\n",
    "automated_dict = {}\n",
    "for f in glob.glob('compound_scraping/unique-kegg/automated/*'):\n",
    "    kset = set()\n",
    "    name = os.path.basename(f).split('-')[0]\n",
    "    with open(f) as ff:\n",
    "        for line in ff:\n",
    "            kset.add(line.strip())\n",
    "        automated_dict[name]=kset\n",
    "    "
   ]
  },
  {
   "cell_type": "code",
   "execution_count": 68,
   "metadata": {},
   "outputs": [
    {
     "name": "stdout",
     "output_type": "stream",
     "text": [
      "C01104\n",
      "C00794\n",
      "C01083\n",
      "C00064\n",
      "C00089\n",
      "C00719\n",
      "C00116\n",
      "C04022\n",
      "C00334\n",
      "C00245\n",
      "C00213\n",
      "C00392\n",
      "C00148\n",
      "C00025\n",
      "C06231\n",
      "C01004\n"
     ]
    }
   ],
   "source": [
    "manual_dict = {}\n",
    "for f in glob.glob('compound_scraping/unique-kegg/manual/*'):\n",
    "    name = os.path.basename(f).split('_')[0]\n",
    "    print(name)\n",
    "    kset = set()\n",
    "    with open(f) as ff:\n",
    "        for line in ff:\n",
    "            kset.add(line.strip())\n",
    "        manual_dict[name]=kset"
   ]
  },
  {
   "cell_type": "code",
   "execution_count": 101,
   "metadata": {},
   "outputs": [
    {
     "name": "stdout",
     "output_type": "stream",
     "text": [
      "glycine-betaine,C00719,\n",
      "ectoine,C06231,\n",
      "GABA,C00334,K19191\n",
      "glycerol,C00116,K13700;K01108;K06131;K13704;K00968;K01059;K20983\n",
      "mannitol,C00392,K03884;K00330;K03882;K00338;K00332;K00333;K00343;K00341;K00334;K03883;K00331;K00337;K00340;K00336;K00335;K02799;K03878;K00339;K00329;K03879;K03880;K17738;K03881;K00342\n",
      "sacrosine,C00213,\n",
      "sorbitol,C00794,K02304;K02302;K03794\n",
      "sucrose,C00089,K00161;K00163;K12154;K11258;K02809;K02808;K01652;K00162;K01653;K01568;K12155\n",
      "taurine,C00245,K07255;K07256\n",
      "trehalose,C01083,K02817;K18478;K02818\n",
      "TMAO,C01104,K05349;K01188;K05350;K00317;K13032\n",
      "DMSP,C04022,\n",
      "proline,C00148,K21618\n",
      "glutamate,C00025,K01665;K14244;K01937;K12645;K05597;K01664;K01953;K20930;K02224;K01950;K01955;K17066;K03342;K13503;K00086;K02501;K08681;K10572;K06215;K01922;K01196;K13038;K00264;K01656;K02500;K13063;K01954;K21620;K01425;K01657;K00632;K00764;K08969;K01658;K13497;K04075;K20423;K10150;K11540;K19786;K11541;K17218;K21175;K01956;K00820;K01663;K00705;K00276;K13950;K01952;K13501;K02232;K20159;K01951\n",
      "glutamine,C00064,K00285;K00824;K12645;K00273;K04075\n",
      "trigonelline,C01004,K20446;K20447;K20445;K20448\n"
     ]
    }
   ],
   "source": [
    "for n in compound_dict.keys():\n",
    "    c = compound_dict[n]\n",
    "    m = manual_dict[c]\n",
    "    a = automated_dict[c]\n",
    "    print(','.join([n, c, ';'.join(a.difference(m))]))\n",
    "#     print(len(a.intersection(m)))\n",
    "#     print('\\t'.join([n, c, str(len(m)), str(len(a))]))"
   ]
  },
  {
   "cell_type": "code",
   "execution_count": null,
   "metadata": {},
   "outputs": [],
   "source": []
  }
 ],
 "metadata": {
  "kernelspec": {
   "display_name": "Python [conda env:.conda-general_plotting] *",
   "language": "python",
   "name": "conda-env-.conda-general_plotting-py"
  },
  "language_info": {
   "codemirror_mode": {
    "name": "ipython",
    "version": 3
   },
   "file_extension": ".py",
   "mimetype": "text/x-python",
   "name": "python",
   "nbconvert_exporter": "python",
   "pygments_lexer": "ipython3",
   "version": "3.6.12"
  }
 },
 "nbformat": 4,
 "nbformat_minor": 2
}
