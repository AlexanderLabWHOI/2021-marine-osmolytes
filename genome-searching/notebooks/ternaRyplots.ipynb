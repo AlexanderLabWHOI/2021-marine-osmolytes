{
 "cells": [
  {
   "cell_type": "code",
   "execution_count": 15,
   "metadata": {},
   "outputs": [],
   "source": [
    "suppressMessages(library(dplyr))\n",
    "suppressMessages(library(reshape2))\n",
    "suppressMessages(library(ggplot2))\n",
    "suppressMessages(library(ggtern))\n",
    "library(cowplot)\n",
    "library(tidyr, warn.conflicts = FALSE)"
   ]
  },
  {
   "cell_type": "markdown",
   "metadata": {},
   "source": [
    "### Prokaryotes"
   ]
  },
  {
   "cell_type": "code",
   "execution_count": 25,
   "metadata": {},
   "outputs": [
    {
     "data": {
      "text/html": [
       "<style>\n",
       ".list-inline {list-style: none; margin:0; padding: 0}\n",
       ".list-inline>li {display: inline-block}\n",
       ".list-inline>li:not(:last-child)::after {content: \"\\00b7\"; padding: 0 .5ex}\n",
       "</style>\n",
       "<ol class=list-inline><li>899</li><li>49</li></ol>\n"
      ],
      "text/latex": [
       "\\begin{enumerate*}\n",
       "\\item 899\n",
       "\\item 49\n",
       "\\end{enumerate*}\n"
      ],
      "text/markdown": [
       "1. 899\n",
       "2. 49\n",
       "\n",
       "\n"
      ],
      "text/plain": [
       "[1] 899  49"
      ]
     },
     "metadata": {},
     "output_type": "display_data"
    },
    {
     "data": {
      "text/html": [
       "<style>\n",
       ".list-inline {list-style: none; margin:0; padding: 0}\n",
       ".list-inline>li {display: inline-block}\n",
       ".list-inline>li:not(:last-child)::after {content: \"\\00b7\"; padding: 0 .5ex}\n",
       "</style>\n",
       "<ol class=list-inline><li>970</li><li>126</li></ol>\n"
      ],
      "text/latex": [
       "\\begin{enumerate*}\n",
       "\\item 970\n",
       "\\item 126\n",
       "\\end{enumerate*}\n"
      ],
      "text/markdown": [
       "1. 970\n",
       "2. 126\n",
       "\n",
       "\n"
      ],
      "text/plain": [
       "[1] 970 126"
      ]
     },
     "metadata": {},
     "output_type": "display_data"
    },
    {
     "data": {
      "text/html": [
       "<style>\n",
       ".list-inline {list-style: none; margin:0; padding: 0}\n",
       ".list-inline>li {display: inline-block}\n",
       ".list-inline>li:not(:last-child)::after {content: \"\\00b7\"; padding: 0 .5ex}\n",
       "</style>\n",
       "<ol class=list-inline><li>908</li><li>126</li></ol>\n"
      ],
      "text/latex": [
       "\\begin{enumerate*}\n",
       "\\item 908\n",
       "\\item 126\n",
       "\\end{enumerate*}\n"
      ],
      "text/markdown": [
       "1. 908\n",
       "2. 126\n",
       "\n",
       "\n"
      ],
      "text/plain": [
       "[1] 908 126"
      ]
     },
     "metadata": {},
     "output_type": "display_data"
    },
    {
     "data": {
      "text/html": [
       "TRUE"
      ],
      "text/latex": [
       "TRUE"
      ],
      "text/markdown": [
       "TRUE"
      ],
      "text/plain": [
       "[1] TRUE"
      ]
     },
     "metadata": {},
     "output_type": "display_data"
    },
    {
     "data": {
      "text/html": [
       "<style>\n",
       ".list-inline {list-style: none; margin:0; padding: 0}\n",
       ".list-inline>li {display: inline-block}\n",
       ".list-inline>li:not(:last-child)::after {content: \"\\00b7\"; padding: 0 .5ex}\n",
       "</style>\n",
       "<ol class=list-inline><li>TRUE</li><li>TRUE</li></ol>\n"
      ],
      "text/latex": [
       "\\begin{enumerate*}\n",
       "\\item TRUE\n",
       "\\item TRUE\n",
       "\\end{enumerate*}\n"
      ],
      "text/markdown": [
       "1. TRUE\n",
       "2. TRUE\n",
       "\n",
       "\n"
      ],
      "text/plain": [
       "[1] TRUE TRUE"
      ]
     },
     "metadata": {},
     "output_type": "display_data"
    }
   ],
   "source": [
    "df <- read.table(file = \"~/2021-marine-osmolytes/genome-searching/predict_synthesis/2021-03-predicted-bacterial-osmolyte-synthesis.tsv\", sep = '\\t', header = F)\n",
    "dim(df)\n",
    "#head(df)\n",
    "osmo <- df[1,2:dim(df)[2]]\n",
    "type <- df[2,2:dim(df)[2]]\n",
    "# simplify the df\n",
    "df <- df[-c(1:2),]\n",
    "rownames(df) <- df[,1]\n",
    "df <- df[,-1]\n",
    "\n",
    "# create taxa table\n",
    "marref <- read.delim(\"~/2021-marine-osmolytes/genome-searching/MarRef_DBs/MarRef_v5.txt\")\n",
    "dim(marref)\n",
    "# removing the marref with NA's in accession value\n",
    "idx <- which(is.na(marref$assembly_accession_refseq))\n",
    "marref <- marref[-idx,]\n",
    "# replace rownames with accession value\n",
    "rownames(marref) <- marref$assembly_accession_refseq\n",
    "dim(marref)\n",
    "# rearrange so that rownames are equal to the synthesis tsv file\n",
    "marref <- marref[rownames(df),]\n",
    "all(rownames(df) == marref$assembly_accession_refseq)\n",
    "\n",
    "# create synthesis df\n",
    "syn <- data.frame(sapply(df[,which(type == \"SYNTHESIS\")], as.numeric))\n",
    "rownames(syn) <- rownames(df)\n",
    "colnames(syn) <- osmo[which(type == \"SYNTHESIS\")]\n",
    "#head(syn)\n",
    "# create breakdown df\n",
    "breakd <- data.frame(sapply(df[,which(type == \"BREAKDOWN\")], as.numeric))\n",
    "rownames(breakd) <- rownames(df)\n",
    "colnames(breakd) <- osmo[which(type == \"BREAKDOWN\")]\n",
    "#head(breakd)\n",
    "dim(syn) == dim(breakd)\n",
    "# create both df\n",
    "both <- as.matrix(syn) + as.matrix(breakd)\n",
    "#head(both)\n",
    "# remove duplicates from syn/breakd, place 0's if both ==2\n",
    "for(i in 1:dim(syn)[1]){\n",
    "    idx <- which(both[i,] == 1)\n",
    "    both[i,idx] <- 0 #replace 1's with 0\n",
    "    idx <- which(both[i,] == 2) # if both =1\n",
    "    syn[i,idx] <- 0\n",
    "    breakd[i,idx] <- 0\n",
    "    both[i,idx] <- 1\n",
    "}"
   ]
  },
  {
   "cell_type": "code",
   "execution_count": 26,
   "metadata": {},
   "outputs": [
    {
     "data": {
      "text/html": [
       "<style>\n",
       ".list-inline {list-style: none; margin:0; padding: 0}\n",
       ".list-inline>li {display: inline-block}\n",
       ".list-inline>li:not(:last-child)::after {content: \"\\00b7\"; padding: 0 .5ex}\n",
       "</style>\n",
       "<ol class=list-inline><li>'Deltaproteobacteria'</li><li>'Alphaproteobacteria'</li><li>'Betaproteobacteria'</li><li>'Cyanobacteria'</li><li>'Gammaproteobacteria'</li><li>'Bacteroidetes'</li><li>'Archaea'</li><li>'Actinobacteria'</li><li>'Firmicutes'</li><li>'Thermotogae (Phylum)'</li><li>'Aquificae'</li><li>'Calditrichaeota'</li><li>'Chlorobi'</li><li>'Epsilonproteobacteria'</li><li>'Deferribacteres (Phylum)'</li><li>'Unclassified'</li><li>'Planctomycetes'</li><li>'Verrucomicrobia'</li><li>'Tenericutes'</li><li>'Chloroflexi'</li><li>'Spirochaetes'</li><li>'Zetaproteobacteria'</li><li>'Deinococcus-Thermus'</li><li>'Thermodesulfobacteria (Phylum)'</li><li>'Aquificae (Phylum)'</li><li>'Synergistetes'</li><li>'Oligoflexia'</li><li>'Fusobacteria'</li></ol>\n"
      ],
      "text/latex": [
       "\\begin{enumerate*}\n",
       "\\item 'Deltaproteobacteria'\n",
       "\\item 'Alphaproteobacteria'\n",
       "\\item 'Betaproteobacteria'\n",
       "\\item 'Cyanobacteria'\n",
       "\\item 'Gammaproteobacteria'\n",
       "\\item 'Bacteroidetes'\n",
       "\\item 'Archaea'\n",
       "\\item 'Actinobacteria'\n",
       "\\item 'Firmicutes'\n",
       "\\item 'Thermotogae (Phylum)'\n",
       "\\item 'Aquificae'\n",
       "\\item 'Calditrichaeota'\n",
       "\\item 'Chlorobi'\n",
       "\\item 'Epsilonproteobacteria'\n",
       "\\item 'Deferribacteres (Phylum)'\n",
       "\\item 'Unclassified'\n",
       "\\item 'Planctomycetes'\n",
       "\\item 'Verrucomicrobia'\n",
       "\\item 'Tenericutes'\n",
       "\\item 'Chloroflexi'\n",
       "\\item 'Spirochaetes'\n",
       "\\item 'Zetaproteobacteria'\n",
       "\\item 'Deinococcus-Thermus'\n",
       "\\item 'Thermodesulfobacteria (Phylum)'\n",
       "\\item 'Aquificae (Phylum)'\n",
       "\\item 'Synergistetes'\n",
       "\\item 'Oligoflexia'\n",
       "\\item 'Fusobacteria'\n",
       "\\end{enumerate*}\n"
      ],
      "text/markdown": [
       "1. 'Deltaproteobacteria'\n",
       "2. 'Alphaproteobacteria'\n",
       "3. 'Betaproteobacteria'\n",
       "4. 'Cyanobacteria'\n",
       "5. 'Gammaproteobacteria'\n",
       "6. 'Bacteroidetes'\n",
       "7. 'Archaea'\n",
       "8. 'Actinobacteria'\n",
       "9. 'Firmicutes'\n",
       "10. 'Thermotogae (Phylum)'\n",
       "11. 'Aquificae'\n",
       "12. 'Calditrichaeota'\n",
       "13. 'Chlorobi'\n",
       "14. 'Epsilonproteobacteria'\n",
       "15. 'Deferribacteres (Phylum)'\n",
       "16. 'Unclassified'\n",
       "17. 'Planctomycetes'\n",
       "18. 'Verrucomicrobia'\n",
       "19. 'Tenericutes'\n",
       "20. 'Chloroflexi'\n",
       "21. 'Spirochaetes'\n",
       "22. 'Zetaproteobacteria'\n",
       "23. 'Deinococcus-Thermus'\n",
       "24. 'Thermodesulfobacteria (Phylum)'\n",
       "25. 'Aquificae (Phylum)'\n",
       "26. 'Synergistetes'\n",
       "27. 'Oligoflexia'\n",
       "28. 'Fusobacteria'\n",
       "\n",
       "\n"
      ],
      "text/plain": [
       " [1] \"Deltaproteobacteria\"            \"Alphaproteobacteria\"           \n",
       " [3] \"Betaproteobacteria\"             \"Cyanobacteria\"                 \n",
       " [5] \"Gammaproteobacteria\"            \"Bacteroidetes\"                 \n",
       " [7] \"Archaea\"                        \"Actinobacteria\"                \n",
       " [9] \"Firmicutes\"                     \"Thermotogae (Phylum)\"          \n",
       "[11] \"Aquificae\"                      \"Calditrichaeota\"               \n",
       "[13] \"Chlorobi\"                       \"Epsilonproteobacteria\"         \n",
       "[15] \"Deferribacteres (Phylum)\"       \"Unclassified\"                  \n",
       "[17] \"Planctomycetes\"                 \"Verrucomicrobia\"               \n",
       "[19] \"Tenericutes\"                    \"Chloroflexi\"                   \n",
       "[21] \"Spirochaetes\"                   \"Zetaproteobacteria\"            \n",
       "[23] \"Deinococcus-Thermus\"            \"Thermodesulfobacteria (Phylum)\"\n",
       "[25] \"Aquificae (Phylum)\"             \"Synergistetes\"                 \n",
       "[27] \"Oligoflexia\"                    \"Fusobacteria\"                  "
      ]
     },
     "metadata": {},
     "output_type": "display_data"
    }
   ],
   "source": [
    "## Adding a custom classification \n",
    "marref$custom <- marref$phylum\n",
    "idx <- marref$custom == \"Proteobacteria\" # Split proteobacteria into delta, alpha, beta, gamma, epsilon, zeta, oligoflex\n",
    "marref$custom[idx] <- marref$class[idx]\n",
    "\n",
    "idx <- marref$kingdom == \"Archaea\" # combine Eury and Crenarchaeota\n",
    "marref$custom[idx] <- \"Archaea\"\n",
    "\n",
    "idx <- marref$custom == \"Actinobacteria (Phylum)\" # drop the extra label for Actinos\n",
    "marref$custom[idx] <- \"Actinobacteria\"\n",
    "\n",
    "unique(marref$custom)"
   ]
  },
  {
   "cell_type": "code",
   "execution_count": 27,
   "metadata": {},
   "outputs": [
    {
     "data": {
      "text/html": [
       "<table>\n",
       "<caption>A data.frame: 14 × 8</caption>\n",
       "<thead>\n",
       "\t<tr><th></th><th scope=col>synthesis</th><th scope=col>breakdown</th><th scope=col>both</th><th scope=col>total</th><th scope=col>all</th><th scope=col>synper</th><th scope=col>breakper</th><th scope=col>bothper</th></tr>\n",
       "\t<tr><th></th><th scope=col>&lt;dbl&gt;</th><th scope=col>&lt;dbl&gt;</th><th scope=col>&lt;dbl&gt;</th><th scope=col>&lt;dbl&gt;</th><th scope=col>&lt;int&gt;</th><th scope=col>&lt;dbl&gt;</th><th scope=col>&lt;dbl&gt;</th><th scope=col>&lt;dbl&gt;</th></tr>\n",
       "</thead>\n",
       "<tbody>\n",
       "\t<tr><th scope=row>Ectoine</th><td> 39</td><td> 47</td><td> 90</td><td>176</td><td>897</td><td> 22.1590909</td><td>26.7045455</td><td> 51.13636</td></tr>\n",
       "\t<tr><th scope=row>GABA</th><td> 55</td><td>225</td><td> 52</td><td>332</td><td>897</td><td> 16.5662651</td><td>67.7710843</td><td> 15.66265</td></tr>\n",
       "\t<tr><th scope=row>Glutamate</th><td>  0</td><td>  0</td><td>897</td><td>897</td><td>897</td><td>  0.0000000</td><td> 0.0000000</td><td>100.00000</td></tr>\n",
       "\t<tr><th scope=row>Glutamine</th><td>  0</td><td>  2</td><td>895</td><td>897</td><td>897</td><td>  0.0000000</td><td> 0.2229654</td><td> 99.77703</td></tr>\n",
       "\t<tr><th scope=row>Glycerol</th><td> 26</td><td>282</td><td>409</td><td>717</td><td>897</td><td>  3.6262204</td><td>39.3305439</td><td> 57.04324</td></tr>\n",
       "\t<tr><th scope=row>Glycine betaine</th><td>316</td><td>  4</td><td>  0</td><td>320</td><td>897</td><td> 98.7500000</td><td> 1.2500000</td><td>  0.00000</td></tr>\n",
       "\t<tr><th scope=row>Mannitol</th><td>  8</td><td> 79</td><td>214</td><td>301</td><td>897</td><td>  2.6578073</td><td>26.2458472</td><td> 71.09635</td></tr>\n",
       "\t<tr><th scope=row>Proline</th><td>  0</td><td> 59</td><td>838</td><td>897</td><td>897</td><td>  0.0000000</td><td> 6.5774805</td><td> 93.42252</td></tr>\n",
       "\t<tr><th scope=row>Sarcosine</th><td>  1</td><td>177</td><td> 86</td><td>264</td><td>897</td><td>  0.3787879</td><td>67.0454545</td><td> 32.57576</td></tr>\n",
       "\t<tr><th scope=row>Sorbitol</th><td> 72</td><td> 13</td><td>320</td><td>405</td><td>897</td><td> 17.7777778</td><td> 3.2098765</td><td> 79.01235</td></tr>\n",
       "\t<tr><th scope=row>Sucrose</th><td> 22</td><td>289</td><td>282</td><td>593</td><td>897</td><td>  3.7099494</td><td>48.7352445</td><td> 47.55481</td></tr>\n",
       "\t<tr><th scope=row>TMAO</th><td> 40</td><td>  0</td><td>  0</td><td> 40</td><td>897</td><td>100.0000000</td><td> 0.0000000</td><td>  0.00000</td></tr>\n",
       "\t<tr><th scope=row>Taurine</th><td> 29</td><td>442</td><td>189</td><td>660</td><td>897</td><td>  4.3939394</td><td>66.9696970</td><td> 28.63636</td></tr>\n",
       "\t<tr><th scope=row>Trehalose</th><td>142</td><td>232</td><td> 49</td><td>423</td><td>897</td><td> 33.5697400</td><td>54.8463357</td><td> 11.58392</td></tr>\n",
       "</tbody>\n",
       "</table>\n"
      ],
      "text/latex": [
       "A data.frame: 14 × 8\n",
       "\\begin{tabular}{r|llllllll}\n",
       "  & synthesis & breakdown & both & total & all & synper & breakper & bothper\\\\\n",
       "  & <dbl> & <dbl> & <dbl> & <dbl> & <int> & <dbl> & <dbl> & <dbl>\\\\\n",
       "\\hline\n",
       "\tEctoine &  39 &  47 &  90 & 176 & 897 &  22.1590909 & 26.7045455 &  51.13636\\\\\n",
       "\tGABA &  55 & 225 &  52 & 332 & 897 &  16.5662651 & 67.7710843 &  15.66265\\\\\n",
       "\tGlutamate &   0 &   0 & 897 & 897 & 897 &   0.0000000 &  0.0000000 & 100.00000\\\\\n",
       "\tGlutamine &   0 &   2 & 895 & 897 & 897 &   0.0000000 &  0.2229654 &  99.77703\\\\\n",
       "\tGlycerol &  26 & 282 & 409 & 717 & 897 &   3.6262204 & 39.3305439 &  57.04324\\\\\n",
       "\tGlycine betaine & 316 &   4 &   0 & 320 & 897 &  98.7500000 &  1.2500000 &   0.00000\\\\\n",
       "\tMannitol &   8 &  79 & 214 & 301 & 897 &   2.6578073 & 26.2458472 &  71.09635\\\\\n",
       "\tProline &   0 &  59 & 838 & 897 & 897 &   0.0000000 &  6.5774805 &  93.42252\\\\\n",
       "\tSarcosine &   1 & 177 &  86 & 264 & 897 &   0.3787879 & 67.0454545 &  32.57576\\\\\n",
       "\tSorbitol &  72 &  13 & 320 & 405 & 897 &  17.7777778 &  3.2098765 &  79.01235\\\\\n",
       "\tSucrose &  22 & 289 & 282 & 593 & 897 &   3.7099494 & 48.7352445 &  47.55481\\\\\n",
       "\tTMAO &  40 &   0 &   0 &  40 & 897 & 100.0000000 &  0.0000000 &   0.00000\\\\\n",
       "\tTaurine &  29 & 442 & 189 & 660 & 897 &   4.3939394 & 66.9696970 &  28.63636\\\\\n",
       "\tTrehalose & 142 & 232 &  49 & 423 & 897 &  33.5697400 & 54.8463357 &  11.58392\\\\\n",
       "\\end{tabular}\n"
      ],
      "text/markdown": [
       "\n",
       "A data.frame: 14 × 8\n",
       "\n",
       "| <!--/--> | synthesis &lt;dbl&gt; | breakdown &lt;dbl&gt; | both &lt;dbl&gt; | total &lt;dbl&gt; | all &lt;int&gt; | synper &lt;dbl&gt; | breakper &lt;dbl&gt; | bothper &lt;dbl&gt; |\n",
       "|---|---|---|---|---|---|---|---|---|\n",
       "| Ectoine |  39 |  47 |  90 | 176 | 897 |  22.1590909 | 26.7045455 |  51.13636 |\n",
       "| GABA |  55 | 225 |  52 | 332 | 897 |  16.5662651 | 67.7710843 |  15.66265 |\n",
       "| Glutamate |   0 |   0 | 897 | 897 | 897 |   0.0000000 |  0.0000000 | 100.00000 |\n",
       "| Glutamine |   0 |   2 | 895 | 897 | 897 |   0.0000000 |  0.2229654 |  99.77703 |\n",
       "| Glycerol |  26 | 282 | 409 | 717 | 897 |   3.6262204 | 39.3305439 |  57.04324 |\n",
       "| Glycine betaine | 316 |   4 |   0 | 320 | 897 |  98.7500000 |  1.2500000 |   0.00000 |\n",
       "| Mannitol |   8 |  79 | 214 | 301 | 897 |   2.6578073 | 26.2458472 |  71.09635 |\n",
       "| Proline |   0 |  59 | 838 | 897 | 897 |   0.0000000 |  6.5774805 |  93.42252 |\n",
       "| Sarcosine |   1 | 177 |  86 | 264 | 897 |   0.3787879 | 67.0454545 |  32.57576 |\n",
       "| Sorbitol |  72 |  13 | 320 | 405 | 897 |  17.7777778 |  3.2098765 |  79.01235 |\n",
       "| Sucrose |  22 | 289 | 282 | 593 | 897 |   3.7099494 | 48.7352445 |  47.55481 |\n",
       "| TMAO |  40 |   0 |   0 |  40 | 897 | 100.0000000 |  0.0000000 |   0.00000 |\n",
       "| Taurine |  29 | 442 | 189 | 660 | 897 |   4.3939394 | 66.9696970 |  28.63636 |\n",
       "| Trehalose | 142 | 232 |  49 | 423 | 897 |  33.5697400 | 54.8463357 |  11.58392 |\n",
       "\n"
      ],
      "text/plain": [
       "                synthesis breakdown both total all synper      breakper  \n",
       "Ectoine          39        47        90  176   897  22.1590909 26.7045455\n",
       "GABA             55       225        52  332   897  16.5662651 67.7710843\n",
       "Glutamate         0         0       897  897   897   0.0000000  0.0000000\n",
       "Glutamine         0         2       895  897   897   0.0000000  0.2229654\n",
       "Glycerol         26       282       409  717   897   3.6262204 39.3305439\n",
       "Glycine betaine 316         4         0  320   897  98.7500000  1.2500000\n",
       "Mannitol          8        79       214  301   897   2.6578073 26.2458472\n",
       "Proline           0        59       838  897   897   0.0000000  6.5774805\n",
       "Sarcosine         1       177        86  264   897   0.3787879 67.0454545\n",
       "Sorbitol         72        13       320  405   897  17.7777778  3.2098765\n",
       "Sucrose          22       289       282  593   897   3.7099494 48.7352445\n",
       "TMAO             40         0         0   40   897 100.0000000  0.0000000\n",
       "Taurine          29       442       189  660   897   4.3939394 66.9696970\n",
       "Trehalose       142       232        49  423   897  33.5697400 54.8463357\n",
       "                bothper  \n",
       "Ectoine          51.13636\n",
       "GABA             15.66265\n",
       "Glutamate       100.00000\n",
       "Glutamine        99.77703\n",
       "Glycerol         57.04324\n",
       "Glycine betaine   0.00000\n",
       "Mannitol         71.09635\n",
       "Proline          93.42252\n",
       "Sarcosine        32.57576\n",
       "Sorbitol         79.01235\n",
       "Sucrose          47.55481\n",
       "TMAO              0.00000\n",
       "Taurine          28.63636\n",
       "Trehalose        11.58392"
      ]
     },
     "metadata": {},
     "output_type": "display_data"
    }
   ],
   "source": [
    "df.sums <- data.frame(synthesis = colSums(syn), breakdown = colSums(breakd), both = colSums(both))\n",
    "df.sums$total <- rowSums(df.sums)\n",
    "df.sums$all <- dim(marref)[1]\n",
    "df.sums$synper <- (df.sums$synthesis/df.sums$total)*100\n",
    "df.sums$breakper <- (df.sums$breakdown/df.sums$total)*100\n",
    "df.sums$bothper <- (df.sums$both/df.sums$total)*100\n",
    "df.sums <- df.sums[-which(rownames(df.sums) == \"DMSP\" | rownames(df.sums) == \"Hydroxyectoine\"),]\n",
    "df.sums"
   ]
  },
  {
   "cell_type": "code",
   "execution_count": 28,
   "metadata": {},
   "outputs": [],
   "source": [
    "df.sumsbac <- df.sums"
   ]
  },
  {
   "cell_type": "code",
   "execution_count": 29,
   "metadata": {},
   "outputs": [
    {
     "data": {
      "text/html": [
       "40"
      ],
      "text/latex": [
       "40"
      ],
      "text/markdown": [
       "40"
      ],
      "text/plain": [
       "[1] 40"
      ]
     },
     "metadata": {},
     "output_type": "display_data"
    },
    {
     "data": {
      "text/html": [
       "897"
      ],
      "text/latex": [
       "897"
      ],
      "text/markdown": [
       "897"
      ],
      "text/plain": [
       "[1] 897"
      ]
     },
     "metadata": {},
     "output_type": "display_data"
    },
    {
     "data": {
      "text/html": [
       "<strong>png:</strong> 2"
      ],
      "text/latex": [
       "\\textbf{png:} 2"
      ],
      "text/markdown": [
       "**png:** 2"
      ],
      "text/plain": [
       "png \n",
       "  2 "
      ]
     },
     "metadata": {},
     "output_type": "display_data"
    }
   ],
   "source": [
    "df.sums$cmpd <- rownames(df.sums)\n",
    "# we create the ternary plot\n",
    "cmpd_colors <-c('#d4b9da','#c994c7','#df65b0','#e7298a','#ce1256','#980043','#67001f',\n",
    "                '#d9f0a3','#addd8e','#78c679','#41ab5d','#238443','#006837','#004529')\n",
    "names(cmpd_colors) <- df.sums$cmpd\n",
    "min(df.sums$total)\n",
    "max(df.sums$total)\n",
    "p2 <- ggtern(df.sums, aes(x = both, y = synthesis, z = breakdown, color = cmpd, size = total))+\n",
    "                geom_mask()+\n",
    "                geom_point()+scale_color_manual(values = cmpd_colors)+\n",
    "                scale_size(limits = c(38,897), range = c(0.5,15), breaks = c(40,400,897))+\n",
    "                theme_rgbw()\n",
    "pdf(\"ternaryprok.pdf\",width = 12, height = 8)\n",
    "p2\n",
    "dev.off()"
   ]
  },
  {
   "cell_type": "markdown",
   "metadata": {},
   "source": [
    "### Eukaryotes"
   ]
  },
  {
   "cell_type": "code",
   "execution_count": 30,
   "metadata": {},
   "outputs": [
    {
     "data": {
      "text/html": [
       "<style>\n",
       ".list-inline {list-style: none; margin:0; padding: 0}\n",
       ".list-inline>li {display: inline-block}\n",
       ".list-inline>li:not(:last-child)::after {content: \"\\00b7\"; padding: 0 .5ex}\n",
       "</style>\n",
       "<ol class=list-inline><li>654</li><li>49</li></ol>\n"
      ],
      "text/latex": [
       "\\begin{enumerate*}\n",
       "\\item 654\n",
       "\\item 49\n",
       "\\end{enumerate*}\n"
      ],
      "text/markdown": [
       "1. 654\n",
       "2. 49\n",
       "\n",
       "\n"
      ],
      "text/plain": [
       "[1] 654  49"
      ]
     },
     "metadata": {},
     "output_type": "display_data"
    },
    {
     "data": {
      "text/html": [
       "<style>\n",
       ".list-inline {list-style: none; margin:0; padding: 0}\n",
       ".list-inline>li {display: inline-block}\n",
       ".list-inline>li:not(:last-child)::after {content: \"\\00b7\"; padding: 0 .5ex}\n",
       "</style>\n",
       "<ol class=list-inline><li>TRUE</li><li>TRUE</li></ol>\n"
      ],
      "text/latex": [
       "\\begin{enumerate*}\n",
       "\\item TRUE\n",
       "\\item TRUE\n",
       "\\end{enumerate*}\n"
      ],
      "text/markdown": [
       "1. TRUE\n",
       "2. TRUE\n",
       "\n",
       "\n"
      ],
      "text/plain": [
       "[1] TRUE TRUE"
      ]
     },
     "metadata": {},
     "output_type": "display_data"
    }
   ],
   "source": [
    "df <- read.table(file = \"~/2021-marine-osmolytes/genome-searching/predict_synthesis/2021-03-predicted-mmetsp-osmolyte-synthesis.tsv\", sep = '\\t', header = F)\n",
    "dim(df)\n",
    "#head(df)\n",
    "osmo <- df[1,2:dim(df)[2]]\n",
    "type <- df[2,2:dim(df)[2]]\n",
    "# simplify the df\n",
    "df <- df[-c(1:2),]\n",
    "rownames(df) <- df[,1]\n",
    "df <- df[,-1]\n",
    "\n",
    "# create taxa table\n",
    "#marref <- read.delim(\"~/2021-marine-osmolytes/genome-searching/MarRef_DBs/MarRef_v5.txt\")\n",
    "#dim(marref)\n",
    "# removing the marref with NA's in accession value\n",
    "#idx <- which(is.na(marref$assembly_accession_refseq))\n",
    "#marref <- marref[-idx,]\n",
    "# replace rownames with accession value\n",
    "#rownames(marref) <- marref$assembly_accession_refseq\n",
    "#dim(marref)\n",
    "# rearrange so that rownames are equal to the synthesis tsv file\n",
    "#marref <- marref[rownames(df),]\n",
    "#all(rownames(df) == marref$assembly_accession_refseq)\n",
    "\n",
    "# create synthesis df\n",
    "syn <- data.frame(sapply(df[,which(type == \"SYNTHESIS\")], as.numeric))\n",
    "rownames(syn) <- rownames(df)\n",
    "colnames(syn) <- osmo[which(type == \"SYNTHESIS\")]\n",
    "#head(syn)\n",
    "# create breakdown df\n",
    "breakd <- data.frame(sapply(df[,which(type == \"BREAKDOWN\")], as.numeric))\n",
    "rownames(breakd) <- rownames(df)\n",
    "colnames(breakd) <- osmo[which(type == \"BREAKDOWN\")]\n",
    "#head(breakd)\n",
    "dim(syn) == dim(breakd)\n",
    "# create both df\n",
    "both <- as.matrix(syn) + as.matrix(breakd)\n",
    "#head(both)\n",
    "# remove duplicates from syn/breakd, place 0's if both ==2\n",
    "for(i in 1:dim(syn)[1]){\n",
    "    idx <- which(both[i,] == 1)\n",
    "    both[i,idx] <- 0 #replace 1's with 0\n",
    "    idx <- which(both[i,] == 2) # if both =1\n",
    "    syn[i,idx] <- 0\n",
    "    breakd[i,idx] <- 0\n",
    "    both[i,idx] <- 1\n",
    "}\n",
    "#head(both)"
   ]
  },
  {
   "cell_type": "code",
   "execution_count": 31,
   "metadata": {},
   "outputs": [
    {
     "data": {
      "text/html": [
       "<table>\n",
       "<caption>A data.frame: 14 × 8</caption>\n",
       "<thead>\n",
       "\t<tr><th></th><th scope=col>synthesis</th><th scope=col>breakdown</th><th scope=col>both</th><th scope=col>total</th><th scope=col>all</th><th scope=col>synper</th><th scope=col>breakper</th><th scope=col>bothper</th></tr>\n",
       "\t<tr><th></th><th scope=col>&lt;dbl&gt;</th><th scope=col>&lt;dbl&gt;</th><th scope=col>&lt;dbl&gt;</th><th scope=col>&lt;dbl&gt;</th><th scope=col>&lt;int&gt;</th><th scope=col>&lt;dbl&gt;</th><th scope=col>&lt;dbl&gt;</th><th scope=col>&lt;dbl&gt;</th></tr>\n",
       "</thead>\n",
       "<tbody>\n",
       "\t<tr><th scope=row>Ectoine</th><td>  1</td><td> 37</td><td>  0</td><td> 38</td><td>652</td><td>  2.6315789</td><td>97.3684211</td><td> 0.000000</td></tr>\n",
       "\t<tr><th scope=row>GABA</th><td> 78</td><td>125</td><td> 62</td><td>265</td><td>652</td><td> 29.4339623</td><td>47.1698113</td><td>23.396226</td></tr>\n",
       "\t<tr><th scope=row>Glutamate</th><td>  2</td><td>  2</td><td>647</td><td>651</td><td>652</td><td>  0.3072197</td><td> 0.3072197</td><td>99.385561</td></tr>\n",
       "\t<tr><th scope=row>Glutamine</th><td>  3</td><td>  4</td><td>644</td><td>651</td><td>652</td><td>  0.4608295</td><td> 0.6144393</td><td>98.924731</td></tr>\n",
       "\t<tr><th scope=row>Glycerol</th><td> 18</td><td> 49</td><td>511</td><td>578</td><td>652</td><td>  3.1141869</td><td> 8.4775087</td><td>88.408304</td></tr>\n",
       "\t<tr><th scope=row>Glycine betaine</th><td> 51</td><td> 28</td><td>  2</td><td> 81</td><td>652</td><td> 62.9629630</td><td>34.5679012</td><td> 2.469136</td></tr>\n",
       "\t<tr><th scope=row>Mannitol</th><td> 44</td><td>  0</td><td> 37</td><td> 81</td><td>652</td><td> 54.3209877</td><td> 0.0000000</td><td>45.679012</td></tr>\n",
       "\t<tr><th scope=row>Proline</th><td>  0</td><td> 44</td><td>597</td><td>641</td><td>652</td><td>  0.0000000</td><td> 6.8642746</td><td>93.135725</td></tr>\n",
       "\t<tr><th scope=row>Sarcosine</th><td>  5</td><td>164</td><td> 17</td><td>186</td><td>652</td><td>  2.6881720</td><td>88.1720430</td><td> 9.139785</td></tr>\n",
       "\t<tr><th scope=row>Sorbitol</th><td>  9</td><td>  0</td><td>490</td><td>499</td><td>652</td><td>  1.8036072</td><td> 0.0000000</td><td>98.196393</td></tr>\n",
       "\t<tr><th scope=row>Sucrose</th><td>166</td><td> 95</td><td>325</td><td>586</td><td>652</td><td> 28.3276451</td><td>16.2116041</td><td>55.460751</td></tr>\n",
       "\t<tr><th scope=row>TMAO</th><td> 50</td><td>  0</td><td>  0</td><td> 50</td><td>652</td><td>100.0000000</td><td> 0.0000000</td><td> 0.000000</td></tr>\n",
       "\t<tr><th scope=row>Taurine</th><td> 63</td><td>215</td><td> 95</td><td>373</td><td>652</td><td> 16.8900804</td><td>57.6407507</td><td>25.469169</td></tr>\n",
       "\t<tr><th scope=row>Trehalose</th><td> 51</td><td>126</td><td>110</td><td>287</td><td>652</td><td> 17.7700348</td><td>43.9024390</td><td>38.327526</td></tr>\n",
       "</tbody>\n",
       "</table>\n"
      ],
      "text/latex": [
       "A data.frame: 14 × 8\n",
       "\\begin{tabular}{r|llllllll}\n",
       "  & synthesis & breakdown & both & total & all & synper & breakper & bothper\\\\\n",
       "  & <dbl> & <dbl> & <dbl> & <dbl> & <int> & <dbl> & <dbl> & <dbl>\\\\\n",
       "\\hline\n",
       "\tEctoine &   1 &  37 &   0 &  38 & 652 &   2.6315789 & 97.3684211 &  0.000000\\\\\n",
       "\tGABA &  78 & 125 &  62 & 265 & 652 &  29.4339623 & 47.1698113 & 23.396226\\\\\n",
       "\tGlutamate &   2 &   2 & 647 & 651 & 652 &   0.3072197 &  0.3072197 & 99.385561\\\\\n",
       "\tGlutamine &   3 &   4 & 644 & 651 & 652 &   0.4608295 &  0.6144393 & 98.924731\\\\\n",
       "\tGlycerol &  18 &  49 & 511 & 578 & 652 &   3.1141869 &  8.4775087 & 88.408304\\\\\n",
       "\tGlycine betaine &  51 &  28 &   2 &  81 & 652 &  62.9629630 & 34.5679012 &  2.469136\\\\\n",
       "\tMannitol &  44 &   0 &  37 &  81 & 652 &  54.3209877 &  0.0000000 & 45.679012\\\\\n",
       "\tProline &   0 &  44 & 597 & 641 & 652 &   0.0000000 &  6.8642746 & 93.135725\\\\\n",
       "\tSarcosine &   5 & 164 &  17 & 186 & 652 &   2.6881720 & 88.1720430 &  9.139785\\\\\n",
       "\tSorbitol &   9 &   0 & 490 & 499 & 652 &   1.8036072 &  0.0000000 & 98.196393\\\\\n",
       "\tSucrose & 166 &  95 & 325 & 586 & 652 &  28.3276451 & 16.2116041 & 55.460751\\\\\n",
       "\tTMAO &  50 &   0 &   0 &  50 & 652 & 100.0000000 &  0.0000000 &  0.000000\\\\\n",
       "\tTaurine &  63 & 215 &  95 & 373 & 652 &  16.8900804 & 57.6407507 & 25.469169\\\\\n",
       "\tTrehalose &  51 & 126 & 110 & 287 & 652 &  17.7700348 & 43.9024390 & 38.327526\\\\\n",
       "\\end{tabular}\n"
      ],
      "text/markdown": [
       "\n",
       "A data.frame: 14 × 8\n",
       "\n",
       "| <!--/--> | synthesis &lt;dbl&gt; | breakdown &lt;dbl&gt; | both &lt;dbl&gt; | total &lt;dbl&gt; | all &lt;int&gt; | synper &lt;dbl&gt; | breakper &lt;dbl&gt; | bothper &lt;dbl&gt; |\n",
       "|---|---|---|---|---|---|---|---|---|\n",
       "| Ectoine |   1 |  37 |   0 |  38 | 652 |   2.6315789 | 97.3684211 |  0.000000 |\n",
       "| GABA |  78 | 125 |  62 | 265 | 652 |  29.4339623 | 47.1698113 | 23.396226 |\n",
       "| Glutamate |   2 |   2 | 647 | 651 | 652 |   0.3072197 |  0.3072197 | 99.385561 |\n",
       "| Glutamine |   3 |   4 | 644 | 651 | 652 |   0.4608295 |  0.6144393 | 98.924731 |\n",
       "| Glycerol |  18 |  49 | 511 | 578 | 652 |   3.1141869 |  8.4775087 | 88.408304 |\n",
       "| Glycine betaine |  51 |  28 |   2 |  81 | 652 |  62.9629630 | 34.5679012 |  2.469136 |\n",
       "| Mannitol |  44 |   0 |  37 |  81 | 652 |  54.3209877 |  0.0000000 | 45.679012 |\n",
       "| Proline |   0 |  44 | 597 | 641 | 652 |   0.0000000 |  6.8642746 | 93.135725 |\n",
       "| Sarcosine |   5 | 164 |  17 | 186 | 652 |   2.6881720 | 88.1720430 |  9.139785 |\n",
       "| Sorbitol |   9 |   0 | 490 | 499 | 652 |   1.8036072 |  0.0000000 | 98.196393 |\n",
       "| Sucrose | 166 |  95 | 325 | 586 | 652 |  28.3276451 | 16.2116041 | 55.460751 |\n",
       "| TMAO |  50 |   0 |   0 |  50 | 652 | 100.0000000 |  0.0000000 |  0.000000 |\n",
       "| Taurine |  63 | 215 |  95 | 373 | 652 |  16.8900804 | 57.6407507 | 25.469169 |\n",
       "| Trehalose |  51 | 126 | 110 | 287 | 652 |  17.7700348 | 43.9024390 | 38.327526 |\n",
       "\n"
      ],
      "text/plain": [
       "                synthesis breakdown both total all synper      breakper  \n",
       "Ectoine           1        37         0   38   652   2.6315789 97.3684211\n",
       "GABA             78       125        62  265   652  29.4339623 47.1698113\n",
       "Glutamate         2         2       647  651   652   0.3072197  0.3072197\n",
       "Glutamine         3         4       644  651   652   0.4608295  0.6144393\n",
       "Glycerol         18        49       511  578   652   3.1141869  8.4775087\n",
       "Glycine betaine  51        28         2   81   652  62.9629630 34.5679012\n",
       "Mannitol         44         0        37   81   652  54.3209877  0.0000000\n",
       "Proline           0        44       597  641   652   0.0000000  6.8642746\n",
       "Sarcosine         5       164        17  186   652   2.6881720 88.1720430\n",
       "Sorbitol          9         0       490  499   652   1.8036072  0.0000000\n",
       "Sucrose         166        95       325  586   652  28.3276451 16.2116041\n",
       "TMAO             50         0         0   50   652 100.0000000  0.0000000\n",
       "Taurine          63       215        95  373   652  16.8900804 57.6407507\n",
       "Trehalose        51       126       110  287   652  17.7700348 43.9024390\n",
       "                bothper  \n",
       "Ectoine          0.000000\n",
       "GABA            23.396226\n",
       "Glutamate       99.385561\n",
       "Glutamine       98.924731\n",
       "Glycerol        88.408304\n",
       "Glycine betaine  2.469136\n",
       "Mannitol        45.679012\n",
       "Proline         93.135725\n",
       "Sarcosine        9.139785\n",
       "Sorbitol        98.196393\n",
       "Sucrose         55.460751\n",
       "TMAO             0.000000\n",
       "Taurine         25.469169\n",
       "Trehalose       38.327526"
      ]
     },
     "metadata": {},
     "output_type": "display_data"
    }
   ],
   "source": [
    "df.sums <- data.frame(synthesis = colSums(syn), breakdown = colSums(breakd), both = colSums(both))\n",
    "df.sums$total <- rowSums(df.sums)\n",
    "df.sums$all <- dim(syn)[1]\n",
    "df.sums$synper <- (df.sums$synthesis/df.sums$total)*100\n",
    "df.sums$breakper <- (df.sums$breakdown/df.sums$total)*100\n",
    "df.sums$bothper <- (df.sums$both/df.sums$total)*100\n",
    "df.sums <- df.sums[-which(rownames(df.sums) == \"DMSP\" | rownames(df.sums) == \"Hydroxyectoine\"),]\n",
    "df.sums"
   ]
  },
  {
   "cell_type": "code",
   "execution_count": 32,
   "metadata": {},
   "outputs": [],
   "source": [
    "df.sumseuk <- df.sums"
   ]
  },
  {
   "cell_type": "code",
   "execution_count": 33,
   "metadata": {},
   "outputs": [
    {
     "data": {
      "text/html": [
       "38"
      ],
      "text/latex": [
       "38"
      ],
      "text/markdown": [
       "38"
      ],
      "text/plain": [
       "[1] 38"
      ]
     },
     "metadata": {},
     "output_type": "display_data"
    },
    {
     "data": {
      "text/html": [
       "651"
      ],
      "text/latex": [
       "651"
      ],
      "text/markdown": [
       "651"
      ],
      "text/plain": [
       "[1] 651"
      ]
     },
     "metadata": {},
     "output_type": "display_data"
    },
    {
     "data": {
      "text/html": [
       "<strong>png:</strong> 2"
      ],
      "text/latex": [
       "\\textbf{png:} 2"
      ],
      "text/markdown": [
       "**png:** 2"
      ],
      "text/plain": [
       "png \n",
       "  2 "
      ]
     },
     "metadata": {},
     "output_type": "display_data"
    }
   ],
   "source": [
    "df.sums$cmpd <- rownames(df.sums)\n",
    "# we create the ternary plot\n",
    "cmpd_colors <-c('#d4b9da','#c994c7','#df65b0','#e7298a','#ce1256','#980043','#67001f',\n",
    "                '#d9f0a3','#addd8e','#78c679','#41ab5d','#238443','#006837','#004529')\n",
    "names(cmpd_colors) <- df.sums$cmpd\n",
    "min(df.sums$total)\n",
    "max(df.sums$total)\n",
    "p2 <- ggtern(df.sums, aes(x = both, y = synthesis, z = breakdown, color = cmpd, size = total))+\n",
    "                geom_mask()+\n",
    "                geom_point()+scale_color_manual(values = cmpd_colors)+\n",
    "                scale_size(limits = c(38,652), range = c(0.5,15), breaks = c(40,300,652))+\n",
    "                theme_rgbw()\n",
    "pdf(\"ternaryeuk.pdf\",width = 12, height = 8)\n",
    "p2\n",
    "dev.off()"
   ]
  },
  {
   "cell_type": "markdown",
   "metadata": {},
   "source": [
    "## Comparing totals vs. pathway and step numbers"
   ]
  },
  {
   "cell_type": "code",
   "execution_count": 34,
   "metadata": {},
   "outputs": [
    {
     "name": "stderr",
     "output_type": "stream",
     "text": [
      "`summarise()` regrouping output by 'COMPOUND_NAME' (override with `.groups` argument)\n",
      "\n"
     ]
    }
   ],
   "source": [
    "## Pull this dataframe from Harriet's global analysis.ipynb used for assigning presence/absence of completed pathways\n",
    "osmos <- read.csv(\"~/2021-marine-osmolytes/genome-searching/predict_synthesis/osmo_machineread_subsetdf.csv\") %>% \n",
    "            group_by(COMBINED_ORTHO) %>% \n",
    "            dplyr::distinct(COMBINED_ORTHO, .keep_all = TRUE)\n",
    "\n",
    "osmos$BROAD[which(osmos$BROAD == \"Breakdown\")] <- \"BREAKDOWN\"\n",
    "\n",
    "paths <- osmos %>%\n",
    "  filter(COMPOUND_NAME != \"DMSP\" & COMPOUND_NAME != \"Hydroxyectoine\") %>%\n",
    "  group_by(COMPOUND_NAME,BROAD) %>%\n",
    "  summarise(tot = n(), min = min(max_step), max = max(max_step)) %>% \n",
    "  pivot_wider(names_from = BROAD, values_from = c(tot,min,max))\n",
    "colnames(paths)[1] <- \"cmpd\""
   ]
  },
  {
   "cell_type": "code",
   "execution_count": 35,
   "metadata": {},
   "outputs": [
    {
     "name": "stderr",
     "output_type": "stream",
     "text": [
      "Warning message:\n",
      "“The plyr::rename operation has created duplicates for the following name(s): (`size`)”\n"
     ]
    },
    {
     "data": {
      "text/html": [
       "<strong>png:</strong> 2"
      ],
      "text/latex": [
       "\\textbf{png:} 2"
      ],
      "text/markdown": [
       "**png:** 2"
      ],
      "text/plain": [
       "png \n",
       "  2 "
      ]
     },
     "metadata": {},
     "output_type": "display_data"
    }
   ],
   "source": [
    "df.sumsbac$cmpd <- rownames(df.sumsbac)\n",
    "df.sumseuk$cmpd <- rownames(df.sumseuk)\n",
    "toplot.bac <- merge(df.sumsbac, paths, by = \"cmpd\")\n",
    "toplot.bac$synthesis <- toplot.bac$synthesis + toplot.bac$both\n",
    "toplot.bac$breakdown <- toplot.bac$breakdown + toplot.bac$both\n",
    "toplot.euk <- merge(df.sumseuk, paths, by = \"cmpd\")\n",
    "toplot.euk$synthesis <- toplot.euk$synthesis + toplot.euk$both\n",
    "toplot.euk$breakdown <- toplot.euk$breakdown + toplot.euk$both\n",
    "\n",
    "b <- ggplot()+geom_point(data=toplot.bac, aes(x = tot_BREAKDOWN, y = breakdown, shape = \"prok\", color = cmpd, size = 2))+\n",
    "                geom_point(data=toplot.euk, aes(x = tot_BREAKDOWN, y = breakdown, shape = \"euk\", color = cmpd, size = 2))+\n",
    "                xlab(\"no. of Pathways\")+ylab(\"no. of Genomes\")+ggtitle(\"Breakdown\")+\n",
    "                theme(text = element_text(size=14))\n",
    "s <- ggplot()+geom_point(data=toplot.bac, aes(x = tot_SYNTHESIS, y = synthesis, shape = \"prok\", color = cmpd, size = 2))+\n",
    "                geom_point(data=toplot.euk, aes(x = tot_SYNTHESIS, y = synthesis, shape = \"euk\", color = cmpd, size = 2, size = 2))+\n",
    "                xlab(\"no. of Pathways\")+ylab(\"no. of Genomes\")+ggtitle(\"Synthesis\")+\n",
    "                theme(text = element_text(size=14))\n",
    "options(repr.plot.width=16, repr.plot.height=8)\n",
    "pdf(\"pathwaycompare.pdf\",width = 12, height = 8)\n",
    "plot_grid(b,s)\n",
    "dev.off()"
   ]
  },
  {
   "cell_type": "code",
   "execution_count": 36,
   "metadata": {},
   "outputs": [
    {
     "data": {
      "text/html": [
       "<strong>png:</strong> 2"
      ],
      "text/latex": [
       "\\textbf{png:} 2"
      ],
      "text/markdown": [
       "**png:** 2"
      ],
      "text/plain": [
       "png \n",
       "  2 "
      ]
     },
     "metadata": {},
     "output_type": "display_data"
    }
   ],
   "source": [
    "b <- ggplot()+geom_point(data=toplot.bac, aes(x = max_BREAKDOWN, y = breakdown, shape = \"prok\", color = cmpd, size = 2))+\n",
    "                geom_point(data=toplot.euk, aes(x = max_BREAKDOWN, y = breakdown, shape = \"euk\", color = cmpd, size = 2))+\n",
    "                xlab(\"max no. of Steps\")+ylab(\"no. of Genomes\")+ggtitle(\"Breakdown\")+\n",
    "                theme(text = element_text(size=14))\n",
    "s <- ggplot()+geom_point(data=toplot.bac, aes(x = max_SYNTHESIS, y = synthesis, shape = \"prok\", color = cmpd, size = 2))+\n",
    "                geom_point(data=toplot.euk, aes(x = max_SYNTHESIS, y = synthesis, shape = \"euk\", color = cmpd, size = 2))+\n",
    "                xlab(\"max no. of Steps\")+ylab(\"no. of Genomes\")+ggtitle(\"Synthesis\")+\n",
    "                theme(text = element_text(size=14))\n",
    "options(repr.plot.width=16, repr.plot.height=8)\n",
    "pdf(\"stepcompare.pdf\",width = 12, height = 8)\n",
    "plot_grid(b,s)\n",
    "dev.off()"
   ]
  },
  {
   "cell_type": "code",
   "execution_count": 37,
   "metadata": {},
   "outputs": [
    {
     "data": {
      "text/html": [
       "<table>\n",
       "<caption>A data.frame: 14 × 18</caption>\n",
       "<thead>\n",
       "\t<tr><th scope=col>cmpd</th><th scope=col>synthesis</th><th scope=col>breakdown</th><th scope=col>both</th><th scope=col>total</th><th scope=col>all</th><th scope=col>synper</th><th scope=col>breakper</th><th scope=col>bothper</th><th scope=col>tot_BREAKDOWN</th><th scope=col>tot_SYNTHESIS</th><th scope=col>tot_TRANSPORT</th><th scope=col>min_BREAKDOWN</th><th scope=col>min_SYNTHESIS</th><th scope=col>min_TRANSPORT</th><th scope=col>max_BREAKDOWN</th><th scope=col>max_SYNTHESIS</th><th scope=col>max_TRANSPORT</th></tr>\n",
       "\t<tr><th scope=col>&lt;chr&gt;</th><th scope=col>&lt;dbl&gt;</th><th scope=col>&lt;dbl&gt;</th><th scope=col>&lt;dbl&gt;</th><th scope=col>&lt;dbl&gt;</th><th scope=col>&lt;int&gt;</th><th scope=col>&lt;dbl&gt;</th><th scope=col>&lt;dbl&gt;</th><th scope=col>&lt;dbl&gt;</th><th scope=col>&lt;int&gt;</th><th scope=col>&lt;int&gt;</th><th scope=col>&lt;int&gt;</th><th scope=col>&lt;int&gt;</th><th scope=col>&lt;int&gt;</th><th scope=col>&lt;int&gt;</th><th scope=col>&lt;int&gt;</th><th scope=col>&lt;int&gt;</th><th scope=col>&lt;int&gt;</th></tr>\n",
       "</thead>\n",
       "<tbody>\n",
       "\t<tr><td>Ectoine        </td><td>129</td><td>137</td><td> 90</td><td>176</td><td>897</td><td> 22.1590909</td><td>26.7045455</td><td> 51.13636</td><td> 2</td><td> 2</td><td>NA</td><td>1</td><td>4</td><td>NA</td><td>3</td><td>5</td><td>NA</td></tr>\n",
       "\t<tr><td>GABA           </td><td>107</td><td>277</td><td> 52</td><td>332</td><td>897</td><td> 16.5662651</td><td>67.7710843</td><td> 15.66265</td><td> 4</td><td>11</td><td>NA</td><td>1</td><td>1</td><td>NA</td><td>2</td><td>4</td><td>NA</td></tr>\n",
       "\t<tr><td>Glutamate      </td><td>897</td><td>897</td><td>897</td><td>897</td><td>897</td><td>  0.0000000</td><td> 0.0000000</td><td>100.00000</td><td>61</td><td>78</td><td>NA</td><td>1</td><td>1</td><td>NA</td><td>5</td><td>3</td><td>NA</td></tr>\n",
       "\t<tr><td>Glutamine      </td><td>895</td><td>897</td><td>895</td><td>897</td><td>897</td><td>  0.0000000</td><td> 0.2229654</td><td> 99.77703</td><td>30</td><td> 2</td><td>NA</td><td>1</td><td>1</td><td>NA</td><td>1</td><td>1</td><td>NA</td></tr>\n",
       "\t<tr><td>Glycerol       </td><td>435</td><td>691</td><td>409</td><td>717</td><td>897</td><td>  3.6262204</td><td>39.3305439</td><td> 57.04324</td><td> 7</td><td> 9</td><td> 3</td><td>1</td><td>1</td><td> 1</td><td>3</td><td>4</td><td> 5</td></tr>\n",
       "\t<tr><td>Glycine betaine</td><td>316</td><td>  4</td><td>  0</td><td>320</td><td>897</td><td> 98.7500000</td><td> 1.2500000</td><td>  0.00000</td><td> 1</td><td> 4</td><td> 2</td><td>3</td><td>1</td><td> 3</td><td>3</td><td>2</td><td> 3</td></tr>\n",
       "\t<tr><td>Mannitol       </td><td>222</td><td>293</td><td>214</td><td>301</td><td>897</td><td>  2.6578073</td><td>26.2458472</td><td> 71.09635</td><td> 2</td><td> 1</td><td> 1</td><td>1</td><td>2</td><td> 4</td><td>2</td><td>2</td><td> 4</td></tr>\n",
       "\t<tr><td>Proline        </td><td>838</td><td>897</td><td>838</td><td>897</td><td>897</td><td>  0.0000000</td><td> 6.5774805</td><td> 93.42252</td><td>12</td><td> 6</td><td>NA</td><td>1</td><td>1</td><td>NA</td><td>1</td><td>2</td><td>NA</td></tr>\n",
       "\t<tr><td>Sarcosine      </td><td> 87</td><td>263</td><td> 86</td><td>264</td><td>897</td><td>  0.3787879</td><td>67.0454545</td><td> 32.57576</td><td> 2</td><td> 7</td><td>NA</td><td>1</td><td>1</td><td>NA</td><td>1</td><td>4</td><td>NA</td></tr>\n",
       "\t<tr><td>Sorbitol       </td><td>392</td><td>333</td><td>320</td><td>405</td><td>897</td><td> 17.7777778</td><td> 3.2098765</td><td> 79.01235</td><td> 4</td><td> 4</td><td> 1</td><td>1</td><td>1</td><td> 4</td><td>1</td><td>1</td><td> 4</td></tr>\n",
       "\t<tr><td>Sucrose        </td><td>304</td><td>571</td><td>282</td><td>593</td><td>897</td><td>  3.7099494</td><td>48.7352445</td><td> 47.55481</td><td>12</td><td> 3</td><td>NA</td><td>1</td><td>1</td><td>NA</td><td>1</td><td>3</td><td>NA</td></tr>\n",
       "\t<tr><td>Taurine        </td><td>218</td><td>631</td><td>189</td><td>660</td><td>897</td><td>  4.3939394</td><td>66.9696970</td><td> 28.63636</td><td> 6</td><td> 5</td><td> 1</td><td>1</td><td>1</td><td> 3</td><td>1</td><td>1</td><td> 3</td></tr>\n",
       "\t<tr><td>TMAO           </td><td> 40</td><td>  0</td><td>  0</td><td> 40</td><td>897</td><td>100.0000000</td><td> 0.0000000</td><td>  0.00000</td><td> 1</td><td> 1</td><td>NA</td><td>1</td><td>1</td><td>NA</td><td>1</td><td>1</td><td>NA</td></tr>\n",
       "\t<tr><td>Trehalose      </td><td>191</td><td>281</td><td> 49</td><td>423</td><td>897</td><td> 33.5697400</td><td>54.8463357</td><td> 11.58392</td><td> 6</td><td> 5</td><td>NA</td><td>1</td><td>1</td><td>NA</td><td>1</td><td>3</td><td>NA</td></tr>\n",
       "</tbody>\n",
       "</table>\n"
      ],
      "text/latex": [
       "A data.frame: 14 × 18\n",
       "\\begin{tabular}{llllllllllllllllll}\n",
       " cmpd & synthesis & breakdown & both & total & all & synper & breakper & bothper & tot\\_BREAKDOWN & tot\\_SYNTHESIS & tot\\_TRANSPORT & min\\_BREAKDOWN & min\\_SYNTHESIS & min\\_TRANSPORT & max\\_BREAKDOWN & max\\_SYNTHESIS & max\\_TRANSPORT\\\\\n",
       " <chr> & <dbl> & <dbl> & <dbl> & <dbl> & <int> & <dbl> & <dbl> & <dbl> & <int> & <int> & <int> & <int> & <int> & <int> & <int> & <int> & <int>\\\\\n",
       "\\hline\n",
       "\t Ectoine         & 129 & 137 &  90 & 176 & 897 &  22.1590909 & 26.7045455 &  51.13636 &  2 &  2 & NA & 1 & 4 & NA & 3 & 5 & NA\\\\\n",
       "\t GABA            & 107 & 277 &  52 & 332 & 897 &  16.5662651 & 67.7710843 &  15.66265 &  4 & 11 & NA & 1 & 1 & NA & 2 & 4 & NA\\\\\n",
       "\t Glutamate       & 897 & 897 & 897 & 897 & 897 &   0.0000000 &  0.0000000 & 100.00000 & 61 & 78 & NA & 1 & 1 & NA & 5 & 3 & NA\\\\\n",
       "\t Glutamine       & 895 & 897 & 895 & 897 & 897 &   0.0000000 &  0.2229654 &  99.77703 & 30 &  2 & NA & 1 & 1 & NA & 1 & 1 & NA\\\\\n",
       "\t Glycerol        & 435 & 691 & 409 & 717 & 897 &   3.6262204 & 39.3305439 &  57.04324 &  7 &  9 &  3 & 1 & 1 &  1 & 3 & 4 &  5\\\\\n",
       "\t Glycine betaine & 316 &   4 &   0 & 320 & 897 &  98.7500000 &  1.2500000 &   0.00000 &  1 &  4 &  2 & 3 & 1 &  3 & 3 & 2 &  3\\\\\n",
       "\t Mannitol        & 222 & 293 & 214 & 301 & 897 &   2.6578073 & 26.2458472 &  71.09635 &  2 &  1 &  1 & 1 & 2 &  4 & 2 & 2 &  4\\\\\n",
       "\t Proline         & 838 & 897 & 838 & 897 & 897 &   0.0000000 &  6.5774805 &  93.42252 & 12 &  6 & NA & 1 & 1 & NA & 1 & 2 & NA\\\\\n",
       "\t Sarcosine       &  87 & 263 &  86 & 264 & 897 &   0.3787879 & 67.0454545 &  32.57576 &  2 &  7 & NA & 1 & 1 & NA & 1 & 4 & NA\\\\\n",
       "\t Sorbitol        & 392 & 333 & 320 & 405 & 897 &  17.7777778 &  3.2098765 &  79.01235 &  4 &  4 &  1 & 1 & 1 &  4 & 1 & 1 &  4\\\\\n",
       "\t Sucrose         & 304 & 571 & 282 & 593 & 897 &   3.7099494 & 48.7352445 &  47.55481 & 12 &  3 & NA & 1 & 1 & NA & 1 & 3 & NA\\\\\n",
       "\t Taurine         & 218 & 631 & 189 & 660 & 897 &   4.3939394 & 66.9696970 &  28.63636 &  6 &  5 &  1 & 1 & 1 &  3 & 1 & 1 &  3\\\\\n",
       "\t TMAO            &  40 &   0 &   0 &  40 & 897 & 100.0000000 &  0.0000000 &   0.00000 &  1 &  1 & NA & 1 & 1 & NA & 1 & 1 & NA\\\\\n",
       "\t Trehalose       & 191 & 281 &  49 & 423 & 897 &  33.5697400 & 54.8463357 &  11.58392 &  6 &  5 & NA & 1 & 1 & NA & 1 & 3 & NA\\\\\n",
       "\\end{tabular}\n"
      ],
      "text/markdown": [
       "\n",
       "A data.frame: 14 × 18\n",
       "\n",
       "| cmpd &lt;chr&gt; | synthesis &lt;dbl&gt; | breakdown &lt;dbl&gt; | both &lt;dbl&gt; | total &lt;dbl&gt; | all &lt;int&gt; | synper &lt;dbl&gt; | breakper &lt;dbl&gt; | bothper &lt;dbl&gt; | tot_BREAKDOWN &lt;int&gt; | tot_SYNTHESIS &lt;int&gt; | tot_TRANSPORT &lt;int&gt; | min_BREAKDOWN &lt;int&gt; | min_SYNTHESIS &lt;int&gt; | min_TRANSPORT &lt;int&gt; | max_BREAKDOWN &lt;int&gt; | max_SYNTHESIS &lt;int&gt; | max_TRANSPORT &lt;int&gt; |\n",
       "|---|---|---|---|---|---|---|---|---|---|---|---|---|---|---|---|---|---|\n",
       "| Ectoine         | 129 | 137 |  90 | 176 | 897 |  22.1590909 | 26.7045455 |  51.13636 |  2 |  2 | NA | 1 | 4 | NA | 3 | 5 | NA |\n",
       "| GABA            | 107 | 277 |  52 | 332 | 897 |  16.5662651 | 67.7710843 |  15.66265 |  4 | 11 | NA | 1 | 1 | NA | 2 | 4 | NA |\n",
       "| Glutamate       | 897 | 897 | 897 | 897 | 897 |   0.0000000 |  0.0000000 | 100.00000 | 61 | 78 | NA | 1 | 1 | NA | 5 | 3 | NA |\n",
       "| Glutamine       | 895 | 897 | 895 | 897 | 897 |   0.0000000 |  0.2229654 |  99.77703 | 30 |  2 | NA | 1 | 1 | NA | 1 | 1 | NA |\n",
       "| Glycerol        | 435 | 691 | 409 | 717 | 897 |   3.6262204 | 39.3305439 |  57.04324 |  7 |  9 |  3 | 1 | 1 |  1 | 3 | 4 |  5 |\n",
       "| Glycine betaine | 316 |   4 |   0 | 320 | 897 |  98.7500000 |  1.2500000 |   0.00000 |  1 |  4 |  2 | 3 | 1 |  3 | 3 | 2 |  3 |\n",
       "| Mannitol        | 222 | 293 | 214 | 301 | 897 |   2.6578073 | 26.2458472 |  71.09635 |  2 |  1 |  1 | 1 | 2 |  4 | 2 | 2 |  4 |\n",
       "| Proline         | 838 | 897 | 838 | 897 | 897 |   0.0000000 |  6.5774805 |  93.42252 | 12 |  6 | NA | 1 | 1 | NA | 1 | 2 | NA |\n",
       "| Sarcosine       |  87 | 263 |  86 | 264 | 897 |   0.3787879 | 67.0454545 |  32.57576 |  2 |  7 | NA | 1 | 1 | NA | 1 | 4 | NA |\n",
       "| Sorbitol        | 392 | 333 | 320 | 405 | 897 |  17.7777778 |  3.2098765 |  79.01235 |  4 |  4 |  1 | 1 | 1 |  4 | 1 | 1 |  4 |\n",
       "| Sucrose         | 304 | 571 | 282 | 593 | 897 |   3.7099494 | 48.7352445 |  47.55481 | 12 |  3 | NA | 1 | 1 | NA | 1 | 3 | NA |\n",
       "| Taurine         | 218 | 631 | 189 | 660 | 897 |   4.3939394 | 66.9696970 |  28.63636 |  6 |  5 |  1 | 1 | 1 |  3 | 1 | 1 |  3 |\n",
       "| TMAO            |  40 |   0 |   0 |  40 | 897 | 100.0000000 |  0.0000000 |   0.00000 |  1 |  1 | NA | 1 | 1 | NA | 1 | 1 | NA |\n",
       "| Trehalose       | 191 | 281 |  49 | 423 | 897 |  33.5697400 | 54.8463357 |  11.58392 |  6 |  5 | NA | 1 | 1 | NA | 1 | 3 | NA |\n",
       "\n"
      ],
      "text/plain": [
       "   cmpd            synthesis breakdown both total all synper      breakper  \n",
       "1  Ectoine         129       137        90  176   897  22.1590909 26.7045455\n",
       "2  GABA            107       277        52  332   897  16.5662651 67.7710843\n",
       "3  Glutamate       897       897       897  897   897   0.0000000  0.0000000\n",
       "4  Glutamine       895       897       895  897   897   0.0000000  0.2229654\n",
       "5  Glycerol        435       691       409  717   897   3.6262204 39.3305439\n",
       "6  Glycine betaine 316         4         0  320   897  98.7500000  1.2500000\n",
       "7  Mannitol        222       293       214  301   897   2.6578073 26.2458472\n",
       "8  Proline         838       897       838  897   897   0.0000000  6.5774805\n",
       "9  Sarcosine        87       263        86  264   897   0.3787879 67.0454545\n",
       "10 Sorbitol        392       333       320  405   897  17.7777778  3.2098765\n",
       "11 Sucrose         304       571       282  593   897   3.7099494 48.7352445\n",
       "12 Taurine         218       631       189  660   897   4.3939394 66.9696970\n",
       "13 TMAO             40         0         0   40   897 100.0000000  0.0000000\n",
       "14 Trehalose       191       281        49  423   897  33.5697400 54.8463357\n",
       "   bothper   tot_BREAKDOWN tot_SYNTHESIS tot_TRANSPORT min_BREAKDOWN\n",
       "1   51.13636  2             2            NA            1            \n",
       "2   15.66265  4            11            NA            1            \n",
       "3  100.00000 61            78            NA            1            \n",
       "4   99.77703 30             2            NA            1            \n",
       "5   57.04324  7             9             3            1            \n",
       "6    0.00000  1             4             2            3            \n",
       "7   71.09635  2             1             1            1            \n",
       "8   93.42252 12             6            NA            1            \n",
       "9   32.57576  2             7            NA            1            \n",
       "10  79.01235  4             4             1            1            \n",
       "11  47.55481 12             3            NA            1            \n",
       "12  28.63636  6             5             1            1            \n",
       "13   0.00000  1             1            NA            1            \n",
       "14  11.58392  6             5            NA            1            \n",
       "   min_SYNTHESIS min_TRANSPORT max_BREAKDOWN max_SYNTHESIS max_TRANSPORT\n",
       "1  4             NA            3             5             NA           \n",
       "2  1             NA            2             4             NA           \n",
       "3  1             NA            5             3             NA           \n",
       "4  1             NA            1             1             NA           \n",
       "5  1              1            3             4              5           \n",
       "6  1              3            3             2              3           \n",
       "7  2              4            2             2              4           \n",
       "8  1             NA            1             2             NA           \n",
       "9  1             NA            1             4             NA           \n",
       "10 1              4            1             1              4           \n",
       "11 1             NA            1             3             NA           \n",
       "12 1              3            1             1              3           \n",
       "13 1             NA            1             1             NA           \n",
       "14 1             NA            1             3             NA           "
      ]
     },
     "metadata": {},
     "output_type": "display_data"
    }
   ],
   "source": [
    "toplot.bac"
   ]
  },
  {
   "cell_type": "code",
   "execution_count": null,
   "metadata": {},
   "outputs": [],
   "source": []
  },
  {
   "cell_type": "code",
   "execution_count": null,
   "metadata": {},
   "outputs": [],
   "source": []
  }
 ],
 "metadata": {
  "kernelspec": {
   "display_name": "R",
   "language": "R",
   "name": "ir"
  },
  "language_info": {
   "codemirror_mode": "r",
   "file_extension": ".r",
   "mimetype": "text/x-r-source",
   "name": "R",
   "pygments_lexer": "r",
   "version": "4.0.1"
  }
 },
 "nbformat": 4,
 "nbformat_minor": 4
}
