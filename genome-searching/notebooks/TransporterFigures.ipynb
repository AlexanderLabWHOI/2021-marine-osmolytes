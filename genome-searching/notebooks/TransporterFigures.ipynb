{
 "cells": [
  {
   "cell_type": "code",
   "execution_count": 5,
   "metadata": {},
   "outputs": [],
   "source": [
    "suppressMessages(library(dplyr))\n",
    "suppressMessages(library(reshape2))\n",
    "suppressMessages(library(ggplot2))\n",
    "library(tidyr, warn.conflicts = FALSE)\n",
    "options(dplyr.summarise.inform = FALSE)# Suppress summarise info\n",
    "library(UpSetR)\n",
    "library(ggupset)\n",
    "library(PaletteWoodsHole)\n",
    "library(cowplot)"
   ]
  },
  {
   "cell_type": "code",
   "execution_count": 6,
   "metadata": {},
   "outputs": [
    {
     "data": {
      "text/html": [
       "<style>\n",
       ".list-inline {list-style: none; margin:0; padding: 0}\n",
       ".list-inline>li {display: inline-block}\n",
       ".list-inline>li:not(:last-child)::after {content: \"\\00b7\"; padding: 0 .5ex}\n",
       "</style>\n",
       "<ol class=list-inline><li>899</li><li>49</li></ol>\n"
      ],
      "text/latex": [
       "\\begin{enumerate*}\n",
       "\\item 899\n",
       "\\item 49\n",
       "\\end{enumerate*}\n"
      ],
      "text/markdown": [
       "1. 899\n",
       "2. 49\n",
       "\n",
       "\n"
      ],
      "text/plain": [
       "[1] 899  49"
      ]
     },
     "metadata": {},
     "output_type": "display_data"
    },
    {
     "data": {
      "text/html": [
       "<style>\n",
       ".list-inline {list-style: none; margin:0; padding: 0}\n",
       ".list-inline>li {display: inline-block}\n",
       ".list-inline>li:not(:last-child)::after {content: \"\\00b7\"; padding: 0 .5ex}\n",
       "</style>\n",
       "<ol class=list-inline><li>970</li><li>126</li></ol>\n"
      ],
      "text/latex": [
       "\\begin{enumerate*}\n",
       "\\item 970\n",
       "\\item 126\n",
       "\\end{enumerate*}\n"
      ],
      "text/markdown": [
       "1. 970\n",
       "2. 126\n",
       "\n",
       "\n"
      ],
      "text/plain": [
       "[1] 970 126"
      ]
     },
     "metadata": {},
     "output_type": "display_data"
    },
    {
     "data": {
      "text/html": [
       "TRUE"
      ],
      "text/latex": [
       "TRUE"
      ],
      "text/markdown": [
       "TRUE"
      ],
      "text/plain": [
       "[1] TRUE"
      ]
     },
     "metadata": {},
     "output_type": "display_data"
    },
    {
     "data": {
      "text/html": [
       "TRUE"
      ],
      "text/latex": [
       "TRUE"
      ],
      "text/markdown": [
       "TRUE"
      ],
      "text/plain": [
       "[1] TRUE"
      ]
     },
     "metadata": {},
     "output_type": "display_data"
    },
    {
     "data": {
      "text/html": [
       "TRUE"
      ],
      "text/latex": [
       "TRUE"
      ],
      "text/markdown": [
       "TRUE"
      ],
      "text/plain": [
       "[1] TRUE"
      ]
     },
     "metadata": {},
     "output_type": "display_data"
    },
    {
     "data": {
      "text/html": [
       "TRUE"
      ],
      "text/latex": [
       "TRUE"
      ],
      "text/markdown": [
       "TRUE"
      ],
      "text/plain": [
       "[1] TRUE"
      ]
     },
     "metadata": {},
     "output_type": "display_data"
    }
   ],
   "source": [
    "df <- read.table(\n",
    "        file = \"~/2020-osmolytes/genome-searching/predict_synthesis/2021-03-predicted-bacterial-osmolyte-synthesis.tsv\", \n",
    "                 sep = '\\t', header = F)\n",
    "dim(df)\n",
    "# only keep metabs that have transporters\n",
    "osmo <- c('Glycerol','Glycine betaine','Sorbitol','Mannitol','Taurine')\n",
    "df <- df[, c(1,which(df[1,] %in% osmo))]\n",
    "# create df for just names of metab and trans,break,syn\n",
    "fn <- df[1:2,-1]\n",
    "# create p/a table\n",
    "pa <- df[3:dim(df)[1],]\n",
    "tmp <- pa$V1; pa$V1 <- NULL\n",
    "pa <- as.data.frame(sapply(pa, as.numeric))\n",
    "rownames(pa) <- tmp\n",
    "# create taxa table\n",
    "marref <- read.delim(\"~/2020-osmolytes/genome-searching/MarRef_DBs/MarRef_v5.txt\")\n",
    "dim(marref)\n",
    "# removing the marref with NA's in accession value\n",
    "idx <- which(is.na(marref$assembly_accession_refseq))\n",
    "marref <- marref[-idx,]\n",
    "# replace rownames with accession value\n",
    "rownames(marref) <- marref$assembly_accession_refseq\n",
    "# rearrange so that rownames are equal to the synthesis tsv file\n",
    "marref <- marref[rownames(pa),]\n",
    "\n",
    "# finally split up p/a table by transp, break, syn\n",
    "t <- which(fn[2,] == \"TRANSPORT\")\n",
    "tr <- pa[,t]; colnames(tr) <- fn[1,t]\n",
    "b <- which(fn[2,] == \"BREAKDOWN\")\n",
    "br <- pa[,b]; colnames(br) <- fn[1,b]\n",
    "s <- which(fn[2,] == \"SYNTHESIS\")\n",
    "syn <- pa[,s]; colnames(syn) <- fn[1,s]\n",
    "\n",
    "# check dim\n",
    "dim(syn)[1] == dim(pa)[1]\n",
    "dim(syn)[2] == dim(tr)[2]\n",
    "dim(br)[2] == dim(tr)[2]\n",
    "\n",
    "# check names\n",
    "all(rownames(br) == marref$assembly_accession_refseq)\n",
    "\n",
    "# add rownames back\n",
    "rownames(tr) <- rownames(pa)\n",
    "rownames(br) <- rownames(pa)\n",
    "rownames(syn) <- rownames(pa)"
   ]
  },
  {
   "cell_type": "code",
   "execution_count": 7,
   "metadata": {},
   "outputs": [
    {
     "data": {
      "text/html": [
       "0.522853957636566"
      ],
      "text/latex": [
       "0.522853957636566"
      ],
      "text/markdown": [
       "0.522853957636566"
      ],
      "text/plain": [
       "[1] 0.522854"
      ]
     },
     "metadata": {},
     "output_type": "display_data"
    },
    {
     "data": {
      "text/html": [
       "469"
      ],
      "text/latex": [
       "469"
      ],
      "text/markdown": [
       "469"
      ],
      "text/plain": [
       "[1] 469"
      ]
     },
     "metadata": {},
     "output_type": "display_data"
    },
    {
     "data": {
      "text/html": [
       "<style>\n",
       ".dl-inline {width: auto; margin:0; padding: 0}\n",
       ".dl-inline>dt, .dl-inline>dd {float: none; width: auto; display: inline-block}\n",
       ".dl-inline>dt::after {content: \":\\0020\"; padding-right: .5ex}\n",
       ".dl-inline>dt:not(:first-of-type) {padding-left: .5ex}\n",
       "</style><dl class=dl-inline><dt>Glycerol</dt><dd>139</dd><dt>Glycine betaine</dt><dd>427</dd><dt>Mannitol</dt><dd>143</dd><dt>Sorbitol</dt><dd>143</dd><dt>Taurine</dt><dd>53</dd></dl>\n"
      ],
      "text/latex": [
       "\\begin{description*}\n",
       "\\item[Glycerol] 139\n",
       "\\item[Glycine betaine] 427\n",
       "\\item[Mannitol] 143\n",
       "\\item[Sorbitol] 143\n",
       "\\item[Taurine] 53\n",
       "\\end{description*}\n"
      ],
      "text/markdown": [
       "Glycerol\n",
       ":   139Glycine betaine\n",
       ":   427Mannitol\n",
       ":   143Sorbitol\n",
       ":   143Taurine\n",
       ":   53\n",
       "\n"
      ],
      "text/plain": [
       "       Glycerol Glycine betaine        Mannitol        Sorbitol         Taurine \n",
       "            139             427             143             143              53 "
      ]
     },
     "metadata": {},
     "output_type": "display_data"
    }
   ],
   "source": [
    "length(which(apply(tr, 1, function(x) sum(x))>0))/dim(tr)[1]\n",
    "length(which(apply(tr, 1, function(x) sum(x))>0))\n",
    "apply(tr, 2, function(x) sum(x))\n"
   ]
  },
  {
   "cell_type": "code",
   "execution_count": 8,
   "metadata": {},
   "outputs": [
    {
     "data": {
      "text/html": [
       "<style>\n",
       ".list-inline {list-style: none; margin:0; padding: 0}\n",
       ".list-inline>li {display: inline-block}\n",
       ".list-inline>li:not(:last-child)::after {content: \"\\00b7\"; padding: 0 .5ex}\n",
       "</style>\n",
       "<ol class=list-inline><li>'Deltaproteobacteria'</li><li>'Alphaproteobacteria'</li><li>'Betaproteobacteria'</li><li>'Cyanobacteria'</li><li>'Gammaproteobacteria'</li><li>'Bacteroidetes'</li><li>'Archaea'</li><li>'Actinobacteria'</li><li>'Firmicutes'</li><li>'Thermotogae (Phylum)'</li><li>'Aquificae'</li><li>'Calditrichaeota'</li><li>'Chlorobi'</li><li>'Epsilonproteobacteria'</li><li>'Deferribacteres (Phylum)'</li><li>'Unclassified'</li><li>'Planctomycetes'</li><li>'Verrucomicrobia'</li><li>'Tenericutes'</li><li>'Chloroflexi'</li><li>'Spirochaetes'</li><li>'Zetaproteobacteria'</li><li>'Deinococcus-Thermus'</li><li>'Thermodesulfobacteria (Phylum)'</li><li>'Aquificae (Phylum)'</li><li>'Synergistetes'</li><li>'Oligoflexia'</li><li>'Fusobacteria'</li></ol>\n"
      ],
      "text/latex": [
       "\\begin{enumerate*}\n",
       "\\item 'Deltaproteobacteria'\n",
       "\\item 'Alphaproteobacteria'\n",
       "\\item 'Betaproteobacteria'\n",
       "\\item 'Cyanobacteria'\n",
       "\\item 'Gammaproteobacteria'\n",
       "\\item 'Bacteroidetes'\n",
       "\\item 'Archaea'\n",
       "\\item 'Actinobacteria'\n",
       "\\item 'Firmicutes'\n",
       "\\item 'Thermotogae (Phylum)'\n",
       "\\item 'Aquificae'\n",
       "\\item 'Calditrichaeota'\n",
       "\\item 'Chlorobi'\n",
       "\\item 'Epsilonproteobacteria'\n",
       "\\item 'Deferribacteres (Phylum)'\n",
       "\\item 'Unclassified'\n",
       "\\item 'Planctomycetes'\n",
       "\\item 'Verrucomicrobia'\n",
       "\\item 'Tenericutes'\n",
       "\\item 'Chloroflexi'\n",
       "\\item 'Spirochaetes'\n",
       "\\item 'Zetaproteobacteria'\n",
       "\\item 'Deinococcus-Thermus'\n",
       "\\item 'Thermodesulfobacteria (Phylum)'\n",
       "\\item 'Aquificae (Phylum)'\n",
       "\\item 'Synergistetes'\n",
       "\\item 'Oligoflexia'\n",
       "\\item 'Fusobacteria'\n",
       "\\end{enumerate*}\n"
      ],
      "text/markdown": [
       "1. 'Deltaproteobacteria'\n",
       "2. 'Alphaproteobacteria'\n",
       "3. 'Betaproteobacteria'\n",
       "4. 'Cyanobacteria'\n",
       "5. 'Gammaproteobacteria'\n",
       "6. 'Bacteroidetes'\n",
       "7. 'Archaea'\n",
       "8. 'Actinobacteria'\n",
       "9. 'Firmicutes'\n",
       "10. 'Thermotogae (Phylum)'\n",
       "11. 'Aquificae'\n",
       "12. 'Calditrichaeota'\n",
       "13. 'Chlorobi'\n",
       "14. 'Epsilonproteobacteria'\n",
       "15. 'Deferribacteres (Phylum)'\n",
       "16. 'Unclassified'\n",
       "17. 'Planctomycetes'\n",
       "18. 'Verrucomicrobia'\n",
       "19. 'Tenericutes'\n",
       "20. 'Chloroflexi'\n",
       "21. 'Spirochaetes'\n",
       "22. 'Zetaproteobacteria'\n",
       "23. 'Deinococcus-Thermus'\n",
       "24. 'Thermodesulfobacteria (Phylum)'\n",
       "25. 'Aquificae (Phylum)'\n",
       "26. 'Synergistetes'\n",
       "27. 'Oligoflexia'\n",
       "28. 'Fusobacteria'\n",
       "\n",
       "\n"
      ],
      "text/plain": [
       " [1] \"Deltaproteobacteria\"            \"Alphaproteobacteria\"           \n",
       " [3] \"Betaproteobacteria\"             \"Cyanobacteria\"                 \n",
       " [5] \"Gammaproteobacteria\"            \"Bacteroidetes\"                 \n",
       " [7] \"Archaea\"                        \"Actinobacteria\"                \n",
       " [9] \"Firmicutes\"                     \"Thermotogae (Phylum)\"          \n",
       "[11] \"Aquificae\"                      \"Calditrichaeota\"               \n",
       "[13] \"Chlorobi\"                       \"Epsilonproteobacteria\"         \n",
       "[15] \"Deferribacteres (Phylum)\"       \"Unclassified\"                  \n",
       "[17] \"Planctomycetes\"                 \"Verrucomicrobia\"               \n",
       "[19] \"Tenericutes\"                    \"Chloroflexi\"                   \n",
       "[21] \"Spirochaetes\"                   \"Zetaproteobacteria\"            \n",
       "[23] \"Deinococcus-Thermus\"            \"Thermodesulfobacteria (Phylum)\"\n",
       "[25] \"Aquificae (Phylum)\"             \"Synergistetes\"                 \n",
       "[27] \"Oligoflexia\"                    \"Fusobacteria\"                  "
      ]
     },
     "metadata": {},
     "output_type": "display_data"
    }
   ],
   "source": [
    "## Adding a custom classification \n",
    "marref$custom <- marref$phylum\n",
    "idx <- marref$custom == \"Proteobacteria\" # Split proteobacteria into delta, alpha, beta, gamma, epsilon, zeta, oligoflex\n",
    "marref$custom[idx] <- marref$class[idx]\n",
    "\n",
    "idx <- marref$kingdom == \"Archaea\" # combine Eury and Crenarchaeota\n",
    "marref$custom[idx] <- \"Archaea\"\n",
    "\n",
    "idx <- marref$custom == \"Actinobacteria (Phylum)\" # drop the extra label for Actinos\n",
    "marref$custom[idx] <- \"Actinobacteria\"\n",
    "\n",
    "unique(marref$custom)\n",
    "## Create color palette for taxa\n",
    "tax_color <- sunset_winter\n",
    "names(tax_color) <- c(\"Actinobacteria\", \"Alphaproteobacteria\",\"Firmicutes\",\"Gammaproteobacteria\",\"Other\",\"Cyanobacteria\")"
   ]
  },
  {
   "cell_type": "code",
   "execution_count": 9,
   "metadata": {},
   "outputs": [
    {
     "name": "stderr",
     "output_type": "stream",
     "text": [
      "Using class as id variables\n",
      "\n"
     ]
    },
    {
     "data": {
      "image/png": "[encoded data removed]",
      "text/plain": [
       "plot without title"
      ]
     },
     "metadata": {
      "image/png": {
       "height": 420,
       "width": 420
      }
     },
     "output_type": "display_data"
    }
   ],
   "source": [
    "gcb <- data.frame(class = marref$custom, trans=tr$`Glycine betaine`, syn=syn$`Glycine betaine`, breakd=br$`Glycine betaine`)\n",
    "rownames(gcb) <- rownames(pa)\n",
    "a <- gcb %>%\n",
    "    filter(trans == 1) %>%\n",
    "    mutate(transonly = ifelse(syn == 0 & breakd == 0, 1, 0)) %>% # transporter only\n",
    "    mutate(transsyn = ifelse(syn == 1 & breakd == 0, 1, 0)) %>% # transporter + synthesis only\n",
    "    mutate(transbreakd = ifelse(syn == 0 & breakd == 1, 1, 0)) %>% # transporter + breakdown only\n",
    "    mutate(all = ifelse(syn == 1 & breakd == 1, 1, 0)) %>% # transporter + synthesis + breakdown\n",
    "    select(class, transonly, transsyn, transbreakd, all) %>%\n",
    "    group_by(class) %>%\n",
    "    summarise(transonly = sum(transonly), transsyn = sum(transsyn),transbreakd=sum(transbreakd), all=sum(all)) %>%\n",
    "    mutate(n = transonly + transsyn + transbreakd + all) %>%\n",
    "    mutate(n = n/sum(n)) %>%\n",
    "    mutate(class = ifelse(n < 0.1, \"Other\", class))%>%\n",
    "    select(-n) %>%\n",
    "    melt() %>%\n",
    "    mutate(variable = factor(variable, levels = c(\"transonly\",\"transsyn\",\"transbreakd\",\"all\"))) %>%\n",
    "    filter(value > 0) %>%\n",
    "    ggplot(aes(x = variable, y = value, fill = class))+\n",
    "        geom_bar(position=\"stack\", stat=\"identity\",width = 0.5)+\n",
    "        theme(axis.text.x = element_text(angle = 45))+\n",
    "        scale_fill_manual(values = tax_color)+\n",
    "        theme_bw()+\n",
    "        ggtitle(\"Glycine Betaine\")+\n",
    "        xlab(\"n\")\n",
    "\n",
    "b <- gcb %>%\n",
    "    filter(trans == 1) %>%\n",
    "    select(-class) %>%\n",
    "    as_tibble(rownames = \"accession\") %>%\n",
    "    gather(path, value, -accession) %>%\n",
    "    filter(value == 1) %>%\n",
    "    group_by(accession) %>%\n",
    "    summarise(test = list(path)) %>%\n",
    "      ggplot(aes(x = test)) +\n",
    "        geom_bar(width = 0.3)+theme_classic()+\n",
    "        scale_x_upset(order_by = \"degree\", sets = c(\"trans\",\"breakd\",\"syn\"))+\n",
    "        theme_combmatrix(combmatrix.panel.point.color.fill = atlantis[1], \n",
    "                         combmatrix.panel.point.size = 5,\n",
    "                        combmatrix.panel.line.size = 0)+\n",
    "        ggtitle(\"Glycine Betaine\")\n",
    "#cairo_pdf(file = \"gcb.pdf\", onefile = TRUE, width = 8.5, height = 11)\n",
    "plot_grid(b, ncol=1, align=\"v\", axis = \"lrtb\")\n",
    "#dev.off()"
   ]
  },
  {
   "cell_type": "code",
   "execution_count": 10,
   "metadata": {},
   "outputs": [
    {
     "data": {
      "text/html": [
       "<style>\n",
       ".dl-inline {width: auto; margin:0; padding: 0}\n",
       ".dl-inline>dt, .dl-inline>dd {float: none; width: auto; display: inline-block}\n",
       ".dl-inline>dt::after {content: \":\\0020\"; padding-right: .5ex}\n",
       ".dl-inline>dt:not(:first-of-type) {padding-left: .5ex}\n",
       "</style><dl class=dl-inline><dt>trans</dt><dd>427</dd><dt>syn</dt><dd>234</dd><dt>breakd</dt><dd>3</dd><dt>transonly</dt><dd>190</dd><dt>transsyn</dt><dd>234</dd><dt>transbreakd</dt><dd>3</dd><dt>all</dt><dd>0</dd></dl>\n"
      ],
      "text/latex": [
       "\\begin{description*}\n",
       "\\item[trans] 427\n",
       "\\item[syn] 234\n",
       "\\item[breakd] 3\n",
       "\\item[transonly] 190\n",
       "\\item[transsyn] 234\n",
       "\\item[transbreakd] 3\n",
       "\\item[all] 0\n",
       "\\end{description*}\n"
      ],
      "text/markdown": [
       "trans\n",
       ":   427syn\n",
       ":   234breakd\n",
       ":   3transonly\n",
       ":   190transsyn\n",
       ":   234transbreakd\n",
       ":   3all\n",
       ":   0\n",
       "\n"
      ],
      "text/plain": [
       "      trans         syn      breakd   transonly    transsyn transbreakd \n",
       "        427         234           3         190         234           3 \n",
       "        all \n",
       "          0 "
      ]
     },
     "metadata": {},
     "output_type": "display_data"
    }
   ],
   "source": [
    "a<-gcb %>%\n",
    "    filter(trans == 1) %>%\n",
    "    mutate(transonly = ifelse(syn == 0 & breakd == 0, 1, 0)) %>% # transporter only\n",
    "    mutate(transsyn = ifelse(syn == 1 & breakd == 0, 1, 0)) %>% # transporter + synthesis only\n",
    "    mutate(transbreakd = ifelse(syn == 0 & breakd == 1, 1, 0)) %>% # transporter + breakdown only\n",
    "    mutate(all = ifelse(syn == 1 & breakd == 1, 1, 0)) # transporter + synthesis + breakdown\n",
    "colSums(a[,2:8])"
   ]
  },
  {
   "cell_type": "code",
   "execution_count": 11,
   "metadata": {},
   "outputs": [
    {
     "name": "stderr",
     "output_type": "stream",
     "text": [
      "Using class as id variables\n",
      "\n"
     ]
    },
    {
     "data": {
      "image/png": "[encoded data removed]",
      "text/plain": [
       "plot without title"
      ]
     },
     "metadata": {
      "image/png": {
       "height": 420,
       "width": 420
      }
     },
     "output_type": "display_data"
    }
   ],
   "source": [
    "sorb <- data.frame(class = marref$custom, trans=tr$Sorbitol, syn=syn$Sorbitol, breakd=br$Sorbitol)\n",
    "rownames(sorb) <- rownames(pa)\n",
    "a <- sorb %>%\n",
    "    filter(trans == 1) %>%\n",
    "    mutate(transonly = ifelse(syn == 0 & breakd == 0, 1, 0)) %>% # transporter only\n",
    "    mutate(transsyn = ifelse(syn == 1 & breakd == 0, 1, 0)) %>% # transporter + synthesis only\n",
    "    mutate(transbreakd = ifelse(syn == 0 & breakd == 1, 1, 0)) %>% # transporter + breakdown only\n",
    "    mutate(all = ifelse(syn == 1 & breakd == 1, 1, 0)) %>% # transporter + synthesis + breakdown\n",
    "    select(class, transonly, transsyn, transbreakd, all) %>%\n",
    "    group_by(class) %>%\n",
    "    summarise(transonly = sum(transonly), transsyn = sum(transsyn),transbreakd=sum(transbreakd), all=sum(all)) %>%\n",
    "    mutate(n = transonly + transsyn + transbreakd + all) %>%\n",
    "    mutate(n = n/sum(n)) %>%\n",
    "    mutate(class = ifelse(n < 0.1, \"Other\", class))%>%\n",
    "    select(-n) %>%\n",
    "    melt() %>%\n",
    "    mutate(variable = factor(variable, levels = c(\"transonly\",\"transbreakd\",\"transsyn\",\"all\"))) %>%\n",
    "    filter(value > 0) %>%\n",
    "    ggplot(aes(x = variable, y = value, fill = class))+\n",
    "        geom_bar(position=\"stack\", stat=\"identity\",width = 0.5)+\n",
    "        theme(axis.text.x = element_text(angle = 45))+\n",
    "        scale_fill_manual(values = tax_color)+\n",
    "        theme_bw()+\n",
    "        ggtitle(\"Sorbitol\")+\n",
    "        xlab(\"n\")\n",
    "\n",
    "b <- sorb %>%\n",
    "    filter(trans == 1) %>%\n",
    "    select(-class) %>%\n",
    "    as_tibble(rownames = \"accession\") %>%\n",
    "    gather(path, value, -accession) %>%\n",
    "    filter(value == 1) %>%\n",
    "    group_by(accession) %>%\n",
    "    summarise(test = list(path)) %>%\n",
    "      ggplot(aes(x = test)) +\n",
    "        geom_bar(width = 0.3)+theme_classic()+\n",
    "        scale_x_upset(order_by = \"degree\", sets = c(\"trans\",\"breakd\",\"syn\"))+\n",
    "        theme_combmatrix(combmatrix.panel.point.color.fill = atlantis[2], \n",
    "                         combmatrix.panel.point.size = 5,\n",
    "                        combmatrix.panel.line.size = 0)+\n",
    "        ggtitle(\"Sorbitol\")\n",
    "#cairo_pdf(file = \"sorb.pdf\", onefile = TRUE, width = 8.5, height = 11)\n",
    "plot_grid(b, ncol=1, align=\"v\", axis = \"lrtb\")\n",
    "#dev.off()"
   ]
  },
  {
   "cell_type": "code",
   "execution_count": 12,
   "metadata": {},
   "outputs": [
    {
     "name": "stderr",
     "output_type": "stream",
     "text": [
      "Using class as id variables\n",
      "\n"
     ]
    },
    {
     "data": {
      "image/png": "[encoded data removed]",
      "text/plain": [
       "plot without title"
      ]
     },
     "metadata": {
      "image/png": {
       "height": 420,
       "width": 420
      }
     },
     "output_type": "display_data"
    }
   ],
   "source": [
    "mann <- data.frame(class = marref$custom, trans=tr$Mannitol, syn=syn$Mannitol, breakd=br$Mannitol)\n",
    "rownames(mann) <- rownames(pa)\n",
    "a <- mann %>%\n",
    "    filter(trans == 1) %>%\n",
    "    mutate(transonly = ifelse(syn == 0 & breakd == 0, 1, 0)) %>% # transporter only\n",
    "    mutate(transsyn = ifelse(syn == 1 & breakd == 0, 1, 0)) %>% # transporter + synthesis only\n",
    "    mutate(transbreakd = ifelse(syn == 0 & breakd == 1, 1, 0)) %>% # transporter + breakdown only\n",
    "    mutate(all = ifelse(syn == 1 & breakd == 1, 1, 0)) %>% # transporter + synthesis + breakdown\n",
    "    select(class, transonly, transsyn, transbreakd, all) %>%\n",
    "    group_by(class) %>%\n",
    "    summarise(transonly = sum(transonly), transsyn = sum(transsyn),transbreakd=sum(transbreakd), all=sum(all)) %>%\n",
    "    mutate(n = transonly + transsyn + transbreakd + all) %>%\n",
    "    mutate(n = n/sum(n)) %>%\n",
    "    mutate(class = ifelse(n < 0.1, \"Other\", class))%>%\n",
    "    select(-n) %>%\n",
    "    melt() %>%\n",
    "    mutate(variable = factor(variable, levels = c(\"transonly\",\"transbreakd\",\"transsyn\",\"all\"))) %>%\n",
    "    filter(value > 0) %>%\n",
    "    ggplot(aes(x = variable, y = value, fill = class))+\n",
    "        geom_bar(position=\"stack\", stat=\"identity\",width = 0.5)+\n",
    "        theme(axis.text.x = element_text(angle = 45))+\n",
    "        scale_fill_manual(values = tax_color)+\n",
    "        theme_bw()+\n",
    "        ggtitle(\"Mannitol\")+\n",
    "        xlab(\"n\")\n",
    "\n",
    "b <- mann %>%\n",
    "    filter(trans == 1) %>%\n",
    "    select(-class) %>%\n",
    "    as_tibble(rownames = \"accession\") %>%\n",
    "    gather(path, value, -accession) %>%\n",
    "    filter(value == 1) %>%\n",
    "    group_by(accession) %>%\n",
    "    summarise(test = list(path)) %>%\n",
    "      ggplot(aes(x = test)) +\n",
    "        geom_bar(width = 0.3)+theme_classic()+\n",
    "        scale_x_upset(order_by = \"degree\", sets = c(\"trans\",\"breakd\",\"syn\"))+\n",
    "        theme_combmatrix(combmatrix.panel.point.color.fill = atlantis[3], \n",
    "                         combmatrix.panel.point.size = 5,\n",
    "                        combmatrix.panel.line.size = 0)+\n",
    "        ggtitle(\"Mannitol\")\n",
    "#cairo_pdf(file = \"mann.pdf\", onefile = TRUE, width = 8.5, height = 11)\n",
    "plot_grid(b, ncol=1, align=\"v\", axis = \"lrtb\")\n",
    "#dev.off()"
   ]
  },
  {
   "cell_type": "code",
   "execution_count": 13,
   "metadata": {},
   "outputs": [
    {
     "name": "stderr",
     "output_type": "stream",
     "text": [
      "Using class as id variables\n",
      "\n"
     ]
    },
    {
     "data": {
      "image/png": "[encoded data removed]",
      "text/plain": [
       "plot without title"
      ]
     },
     "metadata": {
      "image/png": {
       "height": 420,
       "width": 420
      }
     },
     "output_type": "display_data"
    }
   ],
   "source": [
    "glyc <- data.frame(class = marref$custom, trans=tr$Glycerol, syn=syn$Glycerol, breakd=br$Glycerol)\n",
    "rownames(glyc) <- rownames(pa)\n",
    "a <- glyc %>%\n",
    "    filter(trans == 1) %>%\n",
    "    mutate(transonly = ifelse(syn == 0 & breakd == 0, 1, 0)) %>% # transporter only\n",
    "    mutate(transsyn = ifelse(syn == 1 & breakd == 0, 1, 0)) %>% # transporter + synthesis only\n",
    "    mutate(transbreakd = ifelse(syn == 0 & breakd == 1, 1, 0)) %>% # transporter + breakdown only\n",
    "    mutate(all = ifelse(syn == 1 & breakd == 1, 1, 0)) %>% # transporter + synthesis + breakdown\n",
    "    select(class, transonly, transsyn, transbreakd, all) %>%\n",
    "    group_by(class) %>%\n",
    "    summarise(transonly = sum(transonly), transsyn = sum(transsyn),transbreakd=sum(transbreakd), all=sum(all)) %>%\n",
    "    mutate(n = transonly + transsyn + transbreakd + all) %>%\n",
    "    mutate(n = n/sum(n)) %>%\n",
    "    mutate(class = ifelse(n < 0.1, \"Other\", class))%>%\n",
    "    select(-n) %>%\n",
    "    melt() %>%\n",
    "    mutate(variable = factor(variable, levels = c(\"transonly\",\"transbreakd\",\"transsyn\",\"all\"))) %>%\n",
    "    filter(value > 0) %>%\n",
    "    ggplot(aes(x = variable, y = value, fill = class))+\n",
    "        geom_bar(position=\"stack\", stat=\"identity\",width = 0.5)+\n",
    "        theme(axis.text.x = element_text(angle = 45))+\n",
    "        scale_fill_manual(values = tax_color)+\n",
    "        theme_bw()+\n",
    "        ggtitle(\"Glycerol\")+\n",
    "        xlab(\"n\")\n",
    "\n",
    "b <- glyc %>%\n",
    "    filter(trans == 1) %>%\n",
    "    select(-class) %>%\n",
    "    as_tibble(rownames = \"accession\") %>%\n",
    "    gather(path, value, -accession) %>%\n",
    "    filter(value == 1) %>%\n",
    "    group_by(accession) %>%\n",
    "    summarise(test = list(path)) %>%\n",
    "      ggplot(aes(x = test)) +\n",
    "        geom_bar(width = 0.3)+theme_classic()+\n",
    "        scale_x_upset(order_by = \"degree\", sets = c(\"trans\",\"breakd\",\"syn\"))+\n",
    "        theme_combmatrix(combmatrix.panel.point.color.fill = atlantis[4], \n",
    "                         combmatrix.panel.point.size = 5,\n",
    "                        combmatrix.panel.line.size = 0)+\n",
    "        ggtitle(\"Glycerol\")\n",
    "#cairo_pdf(file = \"glyc.pdf\", onefile = TRUE, width = 8.5, height = 11)\n",
    "plot_grid(b, ncol=1, align=\"v\", axis = \"lrtb\")\n",
    "#dev.off()"
   ]
  },
  {
   "cell_type": "code",
   "execution_count": 14,
   "metadata": {
    "scrolled": false
   },
   "outputs": [
    {
     "name": "stderr",
     "output_type": "stream",
     "text": [
      "Using class as id variables\n",
      "\n"
     ]
    },
    {
     "data": {
      "image/png": "[encoded data removed]",
      "text/plain": [
       "plot without title"
      ]
     },
     "metadata": {
      "image/png": {
       "height": 420,
       "width": 420
      }
     },
     "output_type": "display_data"
    }
   ],
   "source": [
    "taur <- data.frame(class = marref$custom, trans=tr$Taurine, syn=syn$Taurine, breakd=br$Taurine)\n",
    "rownames(taur) <- rownames(pa)\n",
    "\n",
    "a<-taur %>%\n",
    "    filter(trans == 1) %>%\n",
    "    mutate(transonly = ifelse(syn == 0 & breakd == 0, 1, 0)) %>% # transporter only\n",
    "    mutate(transsyn = ifelse(syn == 1 & breakd == 0, 1, 0)) %>% # transporter + synthesis only\n",
    "    mutate(transbreakd = ifelse(syn == 0 & breakd == 1, 1, 0)) %>% # transporter + breakdown only\n",
    "    mutate(all = ifelse(syn == 1 & breakd == 1, 1, 0)) %>% # transporter + synthesis + breakdown\n",
    "    select(class, transonly, transsyn, transbreakd, all) %>%\n",
    "    group_by(class) %>%\n",
    "    summarise(transonly = sum(transonly), transsyn = sum(transsyn),transbreakd=sum(transbreakd), all=sum(all)) %>%\n",
    "    mutate(n = transonly + transsyn + transbreakd + all) %>%\n",
    "    mutate(n = n/sum(n)) %>%\n",
    "    mutate(class = ifelse(n < 0.1, \"Other\", class))%>%\n",
    "    select(-n) %>%\n",
    "    melt() %>%\n",
    "    mutate(variable = factor(variable, levels = c(\"transonly\",\"transbreakd\",\"transsyn\",\"all\"))) %>%\n",
    "    filter(value > 0) %>%\n",
    "    ggplot(aes(x = variable, y = value, fill = class))+\n",
    "        geom_bar(position=\"stack\", stat=\"identity\",width = 0.5)+\n",
    "        theme(axis.text.x = element_text(angle = 45))+\n",
    "        scale_fill_manual(values = tax_color)+\n",
    "        theme_bw()+\n",
    "        ggtitle(\"Taurine\")+\n",
    "        xlab(\"n\")\n",
    "\n",
    "b<-taur %>%\n",
    "    filter(trans == 1) %>%\n",
    "    select(-class) %>%\n",
    "    as_tibble(rownames = \"accession\") %>%\n",
    "    gather(path, value, -accession) %>%\n",
    "    filter(value == 1) %>%\n",
    "    group_by(accession) %>%\n",
    "    summarise(test = list(path)) %>%\n",
    "      ggplot(aes(x = test)) +\n",
    "        geom_bar(width = 0.3)+theme_classic()+\n",
    "        scale_x_upset(order_by = \"degree\", sets = c(\"trans\",\"breakd\",\"syn\"))+\n",
    "        theme_combmatrix(combmatrix.panel.point.color.fill = atlantis[9], \n",
    "                         combmatrix.panel.point.size = 5,\n",
    "                        combmatrix.panel.line.size = 0)+\n",
    "        ggtitle(\"Taurine\")\n",
    "#cairo_pdf(file = \"taur.pdf\", onefile = TRUE, width = 8.5, height = 11)\n",
    "plot_grid(b, ncol=1, align=\"v\", axis = \"lrtb\")\n",
    "#dev.off()\n"
   ]
  },
  {
   "cell_type": "code",
   "execution_count": 15,
   "metadata": {},
   "outputs": [
    {
     "name": "stderr",
     "output_type": "stream",
     "text": [
      "Using class as id variables\n",
      "\n",
      "Using class as id variables\n",
      "\n",
      "Using class as id variables\n",
      "\n",
      "Using class as id variables\n",
      "\n",
      "Using class as id variables\n",
      "\n"
     ]
    }
   ],
   "source": [
    "all <- pa\n",
    "colnames(all) <- paste0(fn[2,],\".\",fn[1,])\n",
    "\n",
    "a <- all %>%\n",
    "mutate(transonly = ifelse(`TRANSPORT.Glycine betaine` == 1 & `BREAKDOWN.Glycine betaine` == 0 & `SYNTHESIS.Glycine betaine` == 0, 1, 0)) %>% # transporter only\n",
    "mutate(transbreakd = ifelse(`TRANSPORT.Glycine betaine` == 1 & `BREAKDOWN.Glycine betaine` == 1 & `SYNTHESIS.Glycine betaine` == 0, 1, 0)) %>% # transporter + synthesis only\n",
    "mutate(transsyn = ifelse(`TRANSPORT.Glycine betaine` == 1 & `BREAKDOWN.Glycine betaine` == 0 & `SYNTHESIS.Glycine betaine` == 1, 1, 0)) %>% # transporter + breakdown only\n",
    "mutate(all = ifelse(`TRANSPORT.Glycine betaine` == 1 & `BREAKDOWN.Glycine betaine` == 1 & `SYNTHESIS.Glycine betaine` == 1, 1, 0)) %>%\n",
    "mutate(class = marref$custom) %>%\n",
    "mutate(class = ifelse(class == \"Actinobacteria\" | class == \"Alphaproteobacteria\" | \n",
    "                      class == \"Firmicutes\" | class == \"Gammaproteobacteria\", class, \"Other\")) %>%\n",
    "select(class, transonly, transbreakd, transsyn, all) %>%\n",
    "group_by(class) %>%\n",
    "summarise(transonly = sum(transonly), transbreakd = sum(transbreakd), transsyn = sum(transsyn), all = sum(all)) %>%\n",
    "melt() %>%\n",
    "mutate(compound = \"glycine betaine\", `.before` = class) %>%\n",
    "mutate(variable = factor(variable, levels = c(\"transonly\",\"transbreakd\",\"transsyn\",\"all\"))) %>%\n",
    "    mutate(class = factor(class, levels = c(\"Other\", \"Gammaproteobacteria\", \"Alphaproteobacteria\", \"Firmicutes\", \"Actinobacteria\"))) %>%\n",
    "    ggplot(aes(x = variable, y = class, size = value, color = compound))+geom_point()+\n",
    "        scale_color_manual(values = jason[1])+coord_fixed(ratio = 2)+\n",
    "        theme_minimal()+\n",
    "        theme(legend.position = \"none\")+\n",
    "        theme(axis.title.y=element_blank(),axis.text.y=element_blank())+\n",
    "        theme(axis.title.x=element_blank(),axis.text.x = element_text(angle = 90))+\n",
    "        scale_size(limits = c(1, 125),range=c(0,15), breaks = c(5,25,75,125))+\n",
    "        theme(plot.margin = unit(c(0, 0, 0, 0), \"cm\"))+\n",
    "        ggtitle(\"glycine betaine\")\n",
    "\n",
    "\n",
    "b <- all %>%\n",
    "mutate(transonly = ifelse(TRANSPORT.Sorbitol == 1 & BREAKDOWN.Sorbitol == 0 & SYNTHESIS.Sorbitol == 0, 1, 0)) %>% # transporter only\n",
    "mutate(transbreakd = ifelse(TRANSPORT.Sorbitol == 1 & BREAKDOWN.Sorbitol == 1 & SYNTHESIS.Sorbitol == 0, 1, 0)) %>% # transporter + synthesis only\n",
    "mutate(transsyn = ifelse(TRANSPORT.Sorbitol == 1 & BREAKDOWN.Sorbitol == 0 & SYNTHESIS.Sorbitol == 1, 1, 0)) %>% # transporter + breakdown only\n",
    "mutate(all = ifelse(TRANSPORT.Sorbitol == 1 & BREAKDOWN.Sorbitol == 1 & SYNTHESIS.Sorbitol == 1, 1, 0)) %>%\n",
    "mutate(class = marref$custom) %>%\n",
    "mutate(class = ifelse(class == \"Actinobacteria\" | class == \"Alphaproteobacteria\" | \n",
    "                      class == \"Firmicutes\" | class == \"Gammaproteobacteria\", class, \"Other\")) %>%\n",
    "select(class, transonly, transbreakd, transsyn, all) %>%\n",
    "group_by(class) %>%\n",
    "summarise(transonly = sum(transonly), transbreakd = sum(transbreakd), transsyn = sum(transsyn), all = sum(all)) %>%\n",
    "melt() %>%\n",
    "mutate(compound = \"sorbitol\", `.before` = class) %>%\n",
    "mutate(variable = factor(variable, levels = c(\"transonly\",\"transbreakd\",\"transsyn\",\"all\"))) %>%\n",
    "    mutate(class = factor(class, levels = c(\"Other\", \"Gammaproteobacteria\", \"Alphaproteobacteria\", \"Firmicutes\", \"Actinobacteria\"))) %>%\n",
    "    ggplot(aes(x = variable, y = class, size = value, color = compound))+geom_point()+\n",
    "        scale_color_manual(values = jason[2])+coord_fixed(ratio = 2)+\n",
    "        theme_minimal()+\n",
    "        theme(axis.title.y=element_blank(),axis.text.y=element_blank())+\n",
    "        theme(axis.title.x=element_blank(),axis.text.x = element_text(angle = 90))+\n",
    "        theme(legend.position = \"none\")+\n",
    "        scale_size(limits = c(1, 125),range=c(0,15), breaks = c(5,25,75,125))+\n",
    "        theme(plot.margin = unit(c(0, 0, 0, 0), \"cm\"))+\n",
    "        ggtitle(\"sorbitol\")\n",
    "\n",
    "c <- all %>%\n",
    "mutate(transonly = ifelse(TRANSPORT.Mannitol == 1 & BREAKDOWN.Mannitol == 0 & SYNTHESIS.Mannitol == 0, 1, 0)) %>% # transporter only\n",
    "mutate(transbreakd = ifelse(TRANSPORT.Mannitol == 1 & BREAKDOWN.Mannitol == 1 & SYNTHESIS.Mannitol == 0, 1, 0)) %>% # transporter + synthesis only\n",
    "mutate(transsyn = ifelse(TRANSPORT.Mannitol == 1 & BREAKDOWN.Mannitol == 0 & SYNTHESIS.Mannitol == 1, 1, 0)) %>% # transporter + breakdown only\n",
    "mutate(all = ifelse(TRANSPORT.Mannitol == 1 & BREAKDOWN.Mannitol == 1 & SYNTHESIS.Mannitol == 1, 1, 0)) %>%\n",
    "mutate(class = marref$custom) %>%\n",
    "mutate(class = ifelse(class == \"Actinobacteria\" | class == \"Alphaproteobacteria\" | \n",
    "                      class == \"Firmicutes\" | class == \"Gammaproteobacteria\", class, \"Other\")) %>%\n",
    "select(class, transonly, transbreakd, transsyn, all) %>%\n",
    "group_by(class) %>%\n",
    "summarise(transonly = sum(transonly), transbreakd = sum(transbreakd), transsyn = sum(transsyn), all = sum(all)) %>%\n",
    "melt() %>%\n",
    "mutate(compound = \"mannitol\", `.before` = class) %>%\n",
    "mutate(variable = factor(variable, levels = c(\"transonly\",\"transbreakd\",\"transsyn\",\"all\"))) %>%\n",
    "    mutate(class = factor(class, levels = c(\"Other\", \"Gammaproteobacteria\", \"Alphaproteobacteria\", \"Firmicutes\", \"Actinobacteria\"))) %>%\n",
    "    ggplot(aes(x = variable, y = class, size = value, color = compound))+geom_point()+\n",
    "        scale_color_manual(values = jason[3])+coord_fixed(ratio = 2)+\n",
    "        theme_minimal()+\n",
    "        theme(axis.title.y=element_blank(),axis.text.y=element_blank())+\n",
    "        theme(axis.title.x=element_blank(),axis.text.x = element_text(angle = 90))+\n",
    "        theme(legend.position = \"none\")+\n",
    "        scale_size(limits = c(1, 125),range=c(0,15), breaks = c(5,25,75,125))+\n",
    "        theme(plot.margin = unit(c(0, 0, 0, 0), \"cm\"))+\n",
    "        ggtitle(\"mannitol\")\n",
    "\n",
    "d <- all %>%\n",
    "mutate(transonly = ifelse(TRANSPORT.Glycerol == 1 & BREAKDOWN.Glycerol == 0 & SYNTHESIS.Glycerol == 0, 1, 0)) %>% # transporter only\n",
    "mutate(transbreakd = ifelse(TRANSPORT.Glycerol == 1 & BREAKDOWN.Glycerol == 1 & SYNTHESIS.Glycerol == 0, 1, 0)) %>% # transporter + synthesis only\n",
    "mutate(transsyn = ifelse(TRANSPORT.Glycerol == 1 & BREAKDOWN.Glycerol == 0 & SYNTHESIS.Glycerol == 1, 1, 0)) %>% # transporter + breakdown only\n",
    "mutate(all = ifelse(TRANSPORT.Glycerol == 1 & BREAKDOWN.Glycerol == 1 & SYNTHESIS.Glycerol == 1, 1, 0)) %>%\n",
    "mutate(class = marref$custom) %>%\n",
    "mutate(class = ifelse(class == \"Actinobacteria\" | class == \"Alphaproteobacteria\" | \n",
    "                      class == \"Firmicutes\" | class == \"Gammaproteobacteria\", class, \"Other\")) %>%\n",
    "select(class, transonly, transbreakd, transsyn, all) %>%\n",
    "group_by(class) %>%\n",
    "summarise(transonly = sum(transonly), transbreakd = sum(transbreakd), transsyn = sum(transsyn), all = sum(all)) %>%\n",
    "melt() %>%\n",
    "mutate(compound = \"glycerol\", `.before` = class) %>%\n",
    "mutate(variable = factor(variable, levels = c(\"transonly\",\"transbreakd\",\"transsyn\",\"all\"))) %>%\n",
    "    mutate(class = factor(class, levels = c(\"Other\", \"Gammaproteobacteria\", \"Alphaproteobacteria\", \"Firmicutes\", \"Actinobacteria\"))) %>%\n",
    "    ggplot(aes(x = variable, y = class, size = value, color = compound))+geom_point()+\n",
    "        scale_color_manual(values = jason[4])+coord_fixed(ratio = 2)+\n",
    "        theme_minimal()+\n",
    "        theme(axis.title.y=element_blank(),axis.text.y=element_blank())+\n",
    "        theme(axis.title.x=element_blank(),axis.text.x = element_text(angle = 90))+\n",
    "        theme(legend.position = \"none\")+\n",
    "        scale_size(limits = c(1, 125),range=c(0,15), breaks = c(5,25,75,125))+\n",
    "        theme(plot.margin = unit(c(0, 0, 0, 0), \"cm\"))+\n",
    "        ggtitle(\"glycerol\")\n",
    "\n",
    "e <- all %>%\n",
    "mutate(transonly = ifelse(TRANSPORT.Taurine == 1 & BREAKDOWN.Taurine == 0 & SYNTHESIS.Taurine == 0, 1, 0)) %>% # transporter only\n",
    "mutate(transbreakd = ifelse(TRANSPORT.Taurine == 1 & BREAKDOWN.Taurine == 1 & SYNTHESIS.Taurine == 0, 1, 0)) %>% # transporter + synthesis only\n",
    "mutate(transsyn = ifelse(TRANSPORT.Taurine == 1 & BREAKDOWN.Taurine == 0 & SYNTHESIS.Taurine == 1, 1, 0)) %>% # transporter + breakdown only\n",
    "mutate(all = ifelse(TRANSPORT.Taurine == 1 & BREAKDOWN.Taurine == 1 & SYNTHESIS.Taurine == 1, 1, 0)) %>%\n",
    "mutate(class = marref$custom) %>%\n",
    "mutate(class = ifelse(class == \"Actinobacteria\" | class == \"Alphaproteobacteria\" | \n",
    "                      class == \"Firmicutes\" | class == \"Gammaproteobacteria\", class, \"Other\")) %>%\n",
    "select(class, transonly, transbreakd, transsyn, all) %>%\n",
    "group_by(class) %>%\n",
    "summarise(transonly = sum(transonly), transbreakd = sum(transbreakd), transsyn = sum(transsyn), all = sum(all)) %>%\n",
    "melt() %>%\n",
    "mutate(compound = \"taurine\", `.before` = class) %>%\n",
    "mutate(variable = factor(variable, levels = c(\"transonly\",\"transbreakd\",\"transsyn\",\"all\"))) %>%\n",
    "mutate(class = factor(class, levels = c(\"Other\", \"Gammaproteobacteria\", \"Alphaproteobacteria\", \"Firmicutes\", \"Actinobacteria\"))) %>%\n",
    "    ggplot(aes(x = variable, y = class, size = value, color = compound))+geom_point()+\n",
    "        scale_color_manual(values = jason[5])+coord_fixed(ratio = 2)+\n",
    "        theme_minimal()+\n",
    "        theme(axis.title.y=element_blank(),axis.text.y=element_blank())+\n",
    "        theme(axis.title.x=element_blank(),axis.text.x = element_text(angle = 90))+\n",
    "        theme(legend.position = \"none\")+\n",
    "        scale_size(limits = c(1, 125),range=c(0,15), breaks = c(5,25,75,125))+\n",
    "        theme(plot.margin = unit(c(0, 0, 0, 0), \"cm\"))+\n",
    "        ggtitle(\"taurine\")\n"
   ]
  },
  {
   "cell_type": "code",
   "execution_count": 16,
   "metadata": {},
   "outputs": [
    {
     "name": "stderr",
     "output_type": "stream",
     "text": [
      "Using class as id variables\n",
      "\n",
      "Warning message:\n",
      "“Removed 9 rows containing missing values (geom_point).”\n"
     ]
    },
    {
     "data": {
      "text/html": [
       "<strong>png:</strong> 2"
      ],
      "text/latex": [
       "\\textbf{png:} 2"
      ],
      "text/markdown": [
       "**png:** 2"
      ],
      "text/plain": [
       "png \n",
       "  2 "
      ]
     },
     "metadata": {},
     "output_type": "display_data"
    }
   ],
   "source": [
    "e_wlegend <- all %>%\n",
    "mutate(transonly = ifelse(`TRANSPORT.Glycine betaine` == 1 & `BREAKDOWN.Glycine betaine` == 0 & `SYNTHESIS.Glycine betaine` == 0, 1, 0)) %>% # transporter only\n",
    "mutate(transbreakd = ifelse(`TRANSPORT.Glycine betaine` == 1 & `BREAKDOWN.Glycine betaine` == 1 & `SYNTHESIS.Glycine betaine` == 0, 1, 0)) %>% # transporter + synthesis only\n",
    "mutate(transsyn = ifelse(`TRANSPORT.Glycine betaine` == 1 & `BREAKDOWN.Glycine betaine` == 0 & `SYNTHESIS.Glycine betaine` == 1, 1, 0)) %>% # transporter + breakdown only\n",
    "mutate(all = ifelse(`TRANSPORT.Glycine betaine` == 1 & `BREAKDOWN.Glycine betaine` == 1 & `SYNTHESIS.Glycine betaine` == 1, 1, 0)) %>%\n",
    "mutate(class = marref$custom) %>%\n",
    "mutate(class = ifelse(class == \"Actinobacteria\" | class == \"Alphaproteobacteria\" | \n",
    "                      class == \"Firmicutes\" | class == \"Gammaproteobacteria\", class, \"Other\")) %>%\n",
    "select(class, transonly, transbreakd, transsyn, all) %>%\n",
    "group_by(class) %>%\n",
    "summarise(transonly = sum(transonly), transbreakd = sum(transbreakd), transsyn = sum(transsyn), all = sum(all)) %>%\n",
    "melt() %>%\n",
    "mutate(compound = \"taurine\", `.before` = class) %>%\n",
    "mutate(variable = factor(variable, levels = c(\"transonly\",\"transbreakd\",\"transsyn\",\"all\"))) %>%\n",
    "mutate(class = factor(class, levels = c(\"Other\", \"Gammaproteobacteria\", \"Alphaproteobacteria\", \"Firmicutes\", \"Actinobacteria\"))) %>%\n",
    "    ggplot(aes(x = variable, y = class, size = value, color = compound))+geom_point()+\n",
    "        scale_color_manual(values = jason[5])+coord_fixed(ratio = 2)+\n",
    "        theme_minimal()+\n",
    "        theme(axis.title.y=element_blank(),axis.text.y=element_blank())+\n",
    "        theme(axis.title.x=element_blank(),axis.text.x = element_text(angle = 90))+\n",
    "        scale_size(limits = c(1, 125),range=c(0,15), breaks = c(5,25,75,125))+\n",
    "        theme(plot.margin = unit(c(0, 0, 0, 0), \"cm\"))+\n",
    "        ggtitle(\"taurine\")\n",
    "\n",
    "options(repr.plot.width=15, repr.plot.height=8)\n",
    "cairo_pdf(file = \"bubbleswleg.pdf\", onefile = TRUE, width = 8.5, height = 11)\n",
    "plot_grid(e_wlegend,nrow =1, align=\"v\", axis = \"l\")\n",
    "dev.off()"
   ]
  },
  {
   "cell_type": "code",
   "execution_count": 17,
   "metadata": {},
   "outputs": [
    {
     "name": "stderr",
     "output_type": "stream",
     "text": [
      "Warning message:\n",
      "“Removed 9 rows containing missing values (geom_point).”\n",
      "Warning message:\n",
      "“Removed 10 rows containing missing values (geom_point).”\n",
      "Warning message:\n",
      "“Removed 13 rows containing missing values (geom_point).”\n",
      "Warning message:\n",
      "“Removed 13 rows containing missing values (geom_point).”\n",
      "Warning message:\n",
      "“Removed 15 rows containing missing values (geom_point).”\n"
     ]
    },
    {
     "data": {
      "text/html": [
       "<strong>png:</strong> 2"
      ],
      "text/latex": [
       "\\textbf{png:} 2"
      ],
      "text/markdown": [
       "**png:** 2"
      ],
      "text/plain": [
       "png \n",
       "  2 "
      ]
     },
     "metadata": {},
     "output_type": "display_data"
    }
   ],
   "source": [
    "options(repr.plot.width=15, repr.plot.height=8)\n",
    "cairo_pdf(file = \"allbubbles.pdf\", onefile = TRUE, width = 8.5, height = 11)\n",
    "plot_grid(a,b,c,d,e,nrow =1, align=\"v\", axis = \"l\")\n",
    "dev.off()"
   ]
  },
  {
   "cell_type": "code",
   "execution_count": 18,
   "metadata": {},
   "outputs": [
    {
     "data": {
      "image/png": "[encoded data removed]",
      "text/plain": [
       "plot without title"
      ]
     },
     "metadata": {
      "image/png": {
       "height": 480,
       "width": 900
      }
     },
     "output_type": "display_data"
    }
   ],
   "source": [
    "# totals\n",
    "bars<-data.frame(class = marref$custom) %>%\n",
    "mutate(class = ifelse(class == \"Actinobacteria\" | class == \"Alphaproteobacteria\" | \n",
    "                      class == \"Firmicutes\" | class == \"Gammaproteobacteria\", class, \"Other\")) %>%\n",
    "group_by(class) %>%\n",
    "summarise(n=n()) %>%\n",
    "mutate(class = factor(class, levels = c(\"Other\", \"Gammaproteobacteria\", \"Alphaproteobacteria\", \"Firmicutes\", \"Actinobacteria\"))) %>%\n",
    "ggplot(aes(x = class, y = n))+geom_col()+coord_flip()+scale_y_continuous(position=\"right\")\n",
    "\n",
    "#cairo_pdf(file = \"allclass.pdf\", onefile = TRUE, width = 8.5, height = 11)\n",
    "plot_grid(bars,nrow =1, align=\"v\", axis = \"l\")\n",
    "#dev.off()"
   ]
  },
  {
   "cell_type": "code",
   "execution_count": 19,
   "metadata": {},
   "outputs": [
    {
     "data": {
      "text/html": [
       "<strong>png:</strong> 2"
      ],
      "text/latex": [
       "\\textbf{png:} 2"
      ],
      "text/markdown": [
       "**png:** 2"
      ],
      "text/plain": [
       "png \n",
       "  2 "
      ]
     },
     "metadata": {},
     "output_type": "display_data"
    }
   ],
   "source": [
    "# totals with transporter\n",
    "bars <- all[,grep(\"TRANSPORT\", colnames(all))] %>%\n",
    "mutate(total = rowSums(.)) %>%\n",
    "mutate(class = marref$custom) %>%\n",
    "mutate(class = ifelse(class == \"Actinobacteria\" | class == \"Alphaproteobacteria\" | \n",
    "                     class == \"Firmicutes\" | class == \"Gammaproteobacteria\", class, \"Other\")) %>%\n",
    "mutate(pa = ifelse(total > 0, 1, 0)) %>%\n",
    "filter(pa == 1) %>%\n",
    "select(class,pa) %>%\n",
    "group_by(class) %>%\n",
    "summarise(n=n()) %>%\n",
    "mutate(class = factor(class, levels = c(\"Other\", \"Gammaproteobacteria\", \"Alphaproteobacteria\", \"Firmicutes\", \"Actinobacteria\"))) %>%\n",
    "ggplot(aes(x = class, y = n))+geom_col()+coord_flip()+scale_y_continuous(position=\"right\")+theme_minimal()\n",
    "\n",
    "cairo_pdf(file = \"alltransportN.pdf\", onefile = TRUE, width = 8.5, height = 11)\n",
    "plot_grid(bars,nrow =1, align=\"v\", axis = \"l\")\n",
    "dev.off()"
   ]
  },
  {
   "cell_type": "code",
   "execution_count": 20,
   "metadata": {},
   "outputs": [],
   "source": [
    "all <- pa\n",
    "colnames(all) <- paste0(fn[2,],\".\",fn[1,])\n",
    "\n",
    "a <- all %>%\n",
    "mutate(transonly = ifelse(`TRANSPORT.Glycine betaine` == 1 & `BREAKDOWN.Glycine betaine` == 0 & `SYNTHESIS.Glycine betaine` == 0, 1, 0)) %>% # transporter only\n",
    "mutate(transbreakd = ifelse(`TRANSPORT.Glycine betaine` == 1 & `BREAKDOWN.Glycine betaine` == 1 & `SYNTHESIS.Glycine betaine` == 0, 1, 0)) %>% # transporter + synthesis only\n",
    "mutate(transsyn = ifelse(`TRANSPORT.Glycine betaine` == 1 & `BREAKDOWN.Glycine betaine` == 0 & `SYNTHESIS.Glycine betaine` == 1, 1, 0)) %>% # transporter + breakdown only\n",
    "mutate(all = ifelse(`TRANSPORT.Glycine betaine` == 1 & `BREAKDOWN.Glycine betaine` == 1 & `SYNTHESIS.Glycine betaine` == 1, 1, 0)) %>%\n",
    "mutate(class = marref$custom) %>%\n",
    "mutate(class = ifelse(class == \"Actinobacteria\" | class == \"Alphaproteobacteria\" | \n",
    "                      class == \"Firmicutes\" | class == \"Gammaproteobacteria\", class, \"Other\")) %>%\n",
    "select(class, transonly, transbreakd, transsyn, all) %>%\n",
    "group_by(class) %>%\n",
    "summarise(transonly = sum(transonly), transbreakd = sum(transbreakd), transsyn = sum(transsyn), all = sum(all)) #%>%\n",
    "colnames(a)[2:5] <- paste0(\"gcb.\",colnames(a)[2:5])\n",
    "\n",
    "b <- all %>%\n",
    "mutate(transonly = ifelse(TRANSPORT.Sorbitol == 1 & BREAKDOWN.Sorbitol == 0 & SYNTHESIS.Sorbitol == 0, 1, 0)) %>% # transporter only\n",
    "mutate(transbreakd = ifelse(TRANSPORT.Sorbitol == 1 & BREAKDOWN.Sorbitol == 1 & SYNTHESIS.Sorbitol == 0, 1, 0)) %>% # transporter + synthesis only\n",
    "mutate(transsyn = ifelse(TRANSPORT.Sorbitol == 1 & BREAKDOWN.Sorbitol == 0 & SYNTHESIS.Sorbitol == 1, 1, 0)) %>% # transporter + breakdown only\n",
    "mutate(all = ifelse(TRANSPORT.Sorbitol == 1 & BREAKDOWN.Sorbitol == 1 & SYNTHESIS.Sorbitol == 1, 1, 0)) %>%\n",
    "mutate(class = marref$custom) %>%\n",
    "mutate(class = ifelse(class == \"Actinobacteria\" | class == \"Alphaproteobacteria\" | \n",
    "                      class == \"Firmicutes\" | class == \"Gammaproteobacteria\", class, \"Other\")) %>%\n",
    "select(class, transonly, transbreakd, transsyn, all) %>%\n",
    "group_by(class) %>%\n",
    "summarise(transonly = sum(transonly), transbreakd = sum(transbreakd), transsyn = sum(transsyn), all = sum(all)) #%>%\n",
    "colnames(b)[2:5] <- paste0(\"sorbitol.\",colnames(b)[2:5])\n",
    "\n",
    "c <- all %>%\n",
    "mutate(transonly = ifelse(TRANSPORT.Mannitol == 1 & BREAKDOWN.Mannitol == 0 & SYNTHESIS.Mannitol == 0, 1, 0)) %>% # transporter only\n",
    "mutate(transbreakd = ifelse(TRANSPORT.Mannitol == 1 & BREAKDOWN.Mannitol == 1 & SYNTHESIS.Mannitol == 0, 1, 0)) %>% # transporter + synthesis only\n",
    "mutate(transsyn = ifelse(TRANSPORT.Mannitol == 1 & BREAKDOWN.Mannitol == 0 & SYNTHESIS.Mannitol == 1, 1, 0)) %>% # transporter + breakdown only\n",
    "mutate(all = ifelse(TRANSPORT.Mannitol == 1 & BREAKDOWN.Mannitol == 1 & SYNTHESIS.Mannitol == 1, 1, 0)) %>%\n",
    "mutate(class = marref$custom) %>%\n",
    "mutate(class = ifelse(class == \"Actinobacteria\" | class == \"Alphaproteobacteria\" | \n",
    "                      class == \"Firmicutes\" | class == \"Gammaproteobacteria\", class, \"Other\")) %>%\n",
    "select(class, transonly, transbreakd, transsyn, all) %>%\n",
    "group_by(class) %>%\n",
    "summarise(transonly = sum(transonly), transbreakd = sum(transbreakd), transsyn = sum(transsyn), all = sum(all)) #%>%\n",
    "colnames(c)[2:5] <- paste0(\"mannitol.\",colnames(c)[2:5])\n",
    "\n",
    "d <- all %>%\n",
    "mutate(transonly = ifelse(TRANSPORT.Glycerol == 1 & BREAKDOWN.Glycerol == 0 & SYNTHESIS.Glycerol == 0, 1, 0)) %>% # transporter only\n",
    "mutate(transbreakd = ifelse(TRANSPORT.Glycerol == 1 & BREAKDOWN.Glycerol == 1 & SYNTHESIS.Glycerol == 0, 1, 0)) %>% # transporter + synthesis only\n",
    "mutate(transsyn = ifelse(TRANSPORT.Glycerol == 1 & BREAKDOWN.Glycerol == 0 & SYNTHESIS.Glycerol == 1, 1, 0)) %>% # transporter + breakdown only\n",
    "mutate(all = ifelse(TRANSPORT.Glycerol == 1 & BREAKDOWN.Glycerol == 1 & SYNTHESIS.Glycerol == 1, 1, 0)) %>%\n",
    "mutate(class = marref$custom) %>%\n",
    "mutate(class = ifelse(class == \"Actinobacteria\" | class == \"Alphaproteobacteria\" | \n",
    "                      class == \"Firmicutes\" | class == \"Gammaproteobacteria\", class, \"Other\")) %>%\n",
    "select(class, transonly, transbreakd, transsyn, all) %>%\n",
    "group_by(class) %>%\n",
    "summarise(transonly = sum(transonly), transbreakd = sum(transbreakd), transsyn = sum(transsyn), all = sum(all)) #%>%\n",
    "colnames(d)[2:5] <- paste0(\"glyc.\",colnames(d)[2:5])\n",
    "\n",
    "e <- all %>%\n",
    "mutate(transonly = ifelse(TRANSPORT.Taurine == 1 & BREAKDOWN.Taurine == 0 & SYNTHESIS.Taurine == 0, 1, 0)) %>% # transporter only\n",
    "mutate(transbreakd = ifelse(TRANSPORT.Taurine == 1 & BREAKDOWN.Taurine == 1 & SYNTHESIS.Taurine == 0, 1, 0)) %>% # transporter + synthesis only\n",
    "mutate(transsyn = ifelse(TRANSPORT.Taurine == 1 & BREAKDOWN.Taurine == 0 & SYNTHESIS.Taurine == 1, 1, 0)) %>% # transporter + breakdown only\n",
    "mutate(all = ifelse(TRANSPORT.Taurine == 1 & BREAKDOWN.Taurine == 1 & SYNTHESIS.Taurine == 1, 1, 0)) %>%\n",
    "mutate(class = marref$custom) %>%\n",
    "mutate(class = ifelse(class == \"Actinobacteria\" | class == \"Alphaproteobacteria\" | \n",
    "                      class == \"Firmicutes\" | class == \"Gammaproteobacteria\", class, \"Other\")) %>%\n",
    "select(class, transonly, transbreakd, transsyn, all) %>%\n",
    "group_by(class) %>%\n",
    "summarise(transonly = sum(transonly), transbreakd = sum(transbreakd), transsyn = sum(transsyn), all = sum(all)) #%>%\n",
    "colnames(e)[2:5] <- paste0(\"taur.\",colnames(e)[2:5])"
   ]
  },
  {
   "cell_type": "code",
   "execution_count": 21,
   "metadata": {},
   "outputs": [],
   "source": [
    "tmp <- merge(merge(merge(merge(a,b, by = \"class\"),c,by=\"class\"),d,by=\"class\"),e,by=\"class\")\n",
    "write.csv(tmp, file = \"transportsum.csv\")"
   ]
  },
  {
   "cell_type": "code",
   "execution_count": null,
   "metadata": {},
   "outputs": [],
   "source": []
  },
  {
   "cell_type": "code",
   "execution_count": 22,
   "metadata": {},
   "outputs": [
    {
     "data": {
      "text/html": [
       "<style>\n",
       ".list-inline {list-style: none; margin:0; padding: 0}\n",
       ".list-inline>li {display: inline-block}\n",
       ".list-inline>li:not(:last-child)::after {content: \"\\00b7\"; padding: 0 .5ex}\n",
       "</style>\n",
       "<ol class=list-inline><li>654</li><li>49</li></ol>\n"
      ],
      "text/latex": [
       "\\begin{enumerate*}\n",
       "\\item 654\n",
       "\\item 49\n",
       "\\end{enumerate*}\n"
      ],
      "text/markdown": [
       "1. 654\n",
       "2. 49\n",
       "\n",
       "\n"
      ],
      "text/plain": [
       "[1] 654  49"
      ]
     },
     "metadata": {},
     "output_type": "display_data"
    },
    {
     "data": {
      "text/html": [
       "<style>\n",
       ".dl-inline {width: auto; margin:0; padding: 0}\n",
       ".dl-inline>dt, .dl-inline>dd {float: none; width: auto; display: inline-block}\n",
       ".dl-inline>dt::after {content: \":\\0020\"; padding-right: .5ex}\n",
       ".dl-inline>dt:not(:first-of-type) {padding-left: .5ex}\n",
       "</style><dl class=dl-inline><dt>Glycerol</dt><dd>10</dd><dt>Glycine betaine</dt><dd>1</dd><dt>Mannitol</dt><dd>0</dd><dt>Sorbitol</dt><dd>0</dd><dt>Taurine</dt><dd>1</dd></dl>\n"
      ],
      "text/latex": [
       "\\begin{description*}\n",
       "\\item[Glycerol] 10\n",
       "\\item[Glycine betaine] 1\n",
       "\\item[Mannitol] 0\n",
       "\\item[Sorbitol] 0\n",
       "\\item[Taurine] 1\n",
       "\\end{description*}\n"
      ],
      "text/markdown": [
       "Glycerol\n",
       ":   10Glycine betaine\n",
       ":   1Mannitol\n",
       ":   0Sorbitol\n",
       ":   0Taurine\n",
       ":   1\n",
       "\n"
      ],
      "text/plain": [
       "       Glycerol Glycine betaine        Mannitol        Sorbitol         Taurine \n",
       "             10               1               0               0               1 "
      ]
     },
     "metadata": {},
     "output_type": "display_data"
    }
   ],
   "source": [
    "# Checking which MMETSP have transporters\n",
    "df <- read.table(\n",
    "        file = \"~/2020-osmolytes/genome-searching/predict_synthesis/2021-03-predicted-mmetsp-osmolyte-synthesis.tsv\", \n",
    "                 sep = '\\t', header = F)\n",
    "dim(df)\n",
    "# only keep metabs that have transporters\n",
    "osmo <- c('Glycerol','Glycine betaine','Sorbitol','Mannitol','Taurine')\n",
    "df <- df[, c(1,which(df[1,] %in% osmo))]\n",
    "# make rownames MMETSP name\n",
    "rownames(df)[3:654] <- df[3:654,1]\n",
    "# keep only transport columns\n",
    "df <- df[,which(df[2,] == \"TRANSPORT\")]\n",
    "# remove the first two rows\n",
    "colnames(df) <- df[1,]\n",
    "df <- df[-c(1:2),]\n",
    "\n",
    "#colsums\n",
    "colSums(apply(df, 2, function(x) as.numeric(x)))"
   ]
  },
  {
   "cell_type": "code",
   "execution_count": null,
   "metadata": {},
   "outputs": [],
   "source": [
    " "
   ]
  }
 ],
 "metadata": {
  "kernelspec": {
   "display_name": "R",
   "language": "R",
   "name": "ir"
  },
  "language_info": {
   "codemirror_mode": "r",
   "file_extension": ".r",
   "mimetype": "text/x-r-source",
   "name": "R",
   "pygments_lexer": "r",
   "version": "4.0.1"
  }
 },
 "nbformat": 4,
 "nbformat_minor": 4
}
