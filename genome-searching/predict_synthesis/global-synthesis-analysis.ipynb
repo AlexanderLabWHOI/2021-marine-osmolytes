{
 "cells": [
  {
   "cell_type": "code",
   "execution_count": 11,
   "metadata": {},
   "outputs": [],
   "source": [
    "import pandas as pd\n",
    "import os\n",
    "from collections import defaultdict\n",
    "import numpy as np\n",
    "import glob"
   ]
  },
  {
   "cell_type": "markdown",
   "metadata": {},
   "source": [
    "## Read in and process KEGG reaction information for each osmolyte"
   ]
  },
  {
   "cell_type": "code",
   "execution_count": 2,
   "metadata": {},
   "outputs": [],
   "source": [
    "df = pd.read_csv('../input/Osmolyte-Reactions.tsv', sep='\\t')\n",
    "df.ORTHOLOGY = df.ORTHOLOGY.str.split(';')\n",
    "df = df[df['ORTHOLOGY'].notna()]\n",
    "df['COMBINED_ORTHO'] = df[['NAMED_GROUP', 'PATHWAY']].astype(str).agg(':'.join, axis=1)\n",
    "df['COMBINED_ORTHO_STEP'] = df[['NAMED_GROUP', 'PATHWAY', 'STEP']].astype(str).agg(':'.join, axis=1)\n",
    "df['max_step']= df.groupby('COMBINED_ORTHO')['STEP'].transform('max')\n",
    "df['ALLKO']=df.groupby('COMBINED_ORTHO_STEP')['ORTHOLOGY'].transform(sum)\n",
    "\n",
    "#Subset the DF to just columns that we will be using\n",
    "subset_df = df[['COMPOUND_NAME','COMPOUND','BROAD', 'NAMED_GROUP', 'COMBINED_ORTHO','COMBINED_ORTHO_STEP', 'ALLKO', 'max_step']]\n",
    "subset_df = subset_df.loc[subset_df[['COMPOUND_NAME','COMPOUND','BROAD', 'NAMED_GROUP', 'COMBINED_ORTHO','COMBINED_ORTHO_STEP']].drop_duplicates().index]\n",
    "\n",
    "#Index by KOs in an explosive fashion\n",
    "ko_indexed = subset_df.explode('ALLKO').set_index('ALLKO')"
   ]
  },
  {
   "cell_type": "markdown",
   "metadata": {},
   "source": [
    "# Read in and process Genome information from all MAG runs"
   ]
  },
  {
   "cell_type": "code",
   "execution_count": 3,
   "metadata": {},
   "outputs": [],
   "source": [
    "def read_in_genomes(suffix, dirpath):\n",
    "    #init dataframe\n",
    "    full_ko_df = pd.read_csv(os.path.join(dirpath,'GABA'+suffix), index_col=0)\n",
    "    full_ko_df.index = full_ko_df.index.str.split('/').str[-1].str.strip('.csv')\n",
    "    for file in glob.glob(os.path.join(dirpath,'*'+suffix)):\n",
    "        in_test = pd.read_csv(file, index_col=0)\n",
    "        in_test.index = in_test.index.str.split('/').str[-1].str.strip('.csv')\n",
    "        cols_to_use = in_test.columns.difference(full_ko_df.columns)\n",
    "        full_ko_df = full_ko_df.merge(in_test[cols_to_use], left_index=True, right_index=True)\n",
    "\n",
    "    # Convert dataframe to dictionary    \n",
    "    ko_list = full_ko_df[full_ko_df ==1].stack().index.tolist()\n",
    "    d1 = defaultdict(list)\n",
    "\n",
    "    for k, v in ko_list:\n",
    "        d1[k].append(v)\n",
    "\n",
    "    ko_dict = dict((k, tuple(v)) for k, v in d1.items())\n",
    "    for key in ko_dict:\n",
    "        ko_dict[key] = list(ko_dict[key])\n",
    "    return(ko_dict, full_ko_df)"
   ]
  },
  {
   "cell_type": "code",
   "execution_count": 4,
   "metadata": {},
   "outputs": [],
   "source": [
    "bact_ko_dict, bact_ko_df = read_in_genomes('_bact.csv', '../kofamscan/ko_tables/')\n",
    "mmetsp_ko_dict, mmetsp_ko_df = read_in_genomes('_mmetsp.csv', '../kofamscan/ko_tables/')\n"
   ]
  },
  {
   "cell_type": "code",
   "execution_count": 5,
   "metadata": {},
   "outputs": [],
   "source": [
    "def determine_membership(ko_indexed_grouped, ko_dict):\n",
    "    #Define the broad groups that we are considering\n",
    "    out_dict = {}\n",
    "    for metabolite, ko_indexed in ko_indexed_grouped.groupby('COMPOUND_NAME'):\n",
    "        print(metabolite)\n",
    "        broadgroups = ['TRANSPORT', 'BREAKDOWN', 'SYNTHESIS']\n",
    "        #Create the dataframe that will ultimately be put out\n",
    "        outdf = pd.DataFrame(columns=broadgroups, index = ko_dict.keys())\n",
    "        # Loop over all the keys in the ko_dictionary (the dictionary that is form of organism: KOs)\n",
    "        for key in ko_dict:\n",
    "            kos = ko_dict[key] # list of kos\n",
    "            kos = list(set(kos).intersection(ko_indexed.index))\n",
    "            ko_subset = ko_indexed.loc[kos] #get just the entries from the DF that align with the organism\n",
    "            # Loop over each of the broad categories\n",
    "            for B in broadgroups: \n",
    "                # if broad group isn't in the DF then there is no point to go further-- it is absent\n",
    "                if B not in ko_subset.BROAD.unique():\n",
    "                    outdf.loc[key, B] = 0\n",
    "                # Otherwise check and see if any of the broad group genes match to a pathway \n",
    "                #that only has one gene requried. If it shows up we are good. \n",
    "                else:\n",
    "                    s = ko_subset[ko_subset.BROAD==B]\n",
    "                    if any(s.max_step ==1):\n",
    "                        outdf.loc[key, B] = 1\n",
    "                    # Otherwise loop through all the paths and check that all of the steps are present for a given organism\n",
    "                    else: \n",
    "                        for name, gs in s.groupby('COMBINED_ORTHO'):\n",
    "                            c = int(gs.max_step.unique())\n",
    "                            steps_present = []\n",
    "                            for i in np.arange(1, c+1):\n",
    "                                if np.any(gs.COMBINED_ORTHO_STEP == name+':'+(str(i))):\n",
    "                                    steps_present.append(name+':'+(str(i)))\n",
    "                            if len(steps_present) == c:\n",
    "                                outdf.loc[key, B] = 1\n",
    "                            elif len(steps_present)<c:\n",
    "                                outdf.loc[key, B] = 0\n",
    "                            else:\n",
    "                                print('Something is wrong.')\n",
    "        out_dict[metabolite]=outdf\n",
    "                            \n",
    "                                \n",
    "    return(out_dict)\n"
   ]
  },
  {
   "cell_type": "code",
   "execution_count": 6,
   "metadata": {},
   "outputs": [
    {
     "name": "stdout",
     "output_type": "stream",
     "text": [
      "DMSP\n",
      "Ectoine\n",
      "GABA\n",
      "Glutamate\n",
      "Glutamine\n",
      "Glycerol\n",
      "Glycine betaine\n",
      "Hydroxyectoine\n",
      "Mannitol\n",
      "Proline\n",
      "Sarcosine\n",
      "Sorbitol\n",
      "Sucrose\n",
      "TMAO\n",
      "Taurine\n",
      "Trehalose\n"
     ]
    }
   ],
   "source": [
    "bact_synthesis_dict = determine_membership(ko_indexed,bact_ko_dict)"
   ]
  },
  {
   "cell_type": "code",
   "execution_count": 7,
   "metadata": {},
   "outputs": [
    {
     "name": "stdout",
     "output_type": "stream",
     "text": [
      "DMSP\n",
      "Ectoine\n",
      "GABA\n",
      "Glutamate\n",
      "Glutamine\n",
      "Glycerol\n",
      "Glycine betaine\n",
      "Hydroxyectoine\n",
      "Mannitol\n",
      "Proline\n",
      "Sarcosine\n",
      "Sorbitol\n",
      "Sucrose\n",
      "TMAO\n",
      "Taurine\n",
      "Trehalose\n"
     ]
    }
   ],
   "source": [
    "mmetsp_synthesis_dict = determine_membership(ko_indexed,mmetsp_ko_dict)"
   ]
  },
  {
   "cell_type": "code",
   "execution_count": 8,
   "metadata": {},
   "outputs": [],
   "source": [
    "for key in mmetsp_synthesis_dict:\n",
    "    mmetsp_synthesis_dict[key].to_csv(os.path.join('mmetsp',key+'_mmetsp_predicted_synthesis.csv'), sep='\\t')\n",
    "\n",
    "for key in bact_synthesis_dict:\n",
    "    bact_synthesis_dict[key].to_csv(os.path.join('bact',key+'_bact_predicted_synthesis.csv'), sep='\\t')"
   ]
  },
  {
   "cell_type": "code",
   "execution_count": 9,
   "metadata": {},
   "outputs": [],
   "source": [
    "bact_synthesis_combined_df = pd.concat(bact_synthesis_dict.values(), keys=bact_synthesis_dict.keys(), axis=1)\n",
    "mmetsp_synthesis_combined_df = pd.concat(mmetsp_synthesis_dict.values(), keys=mmetsp_synthesis_dict.keys(), axis=1)"
   ]
  },
  {
   "cell_type": "code",
   "execution_count": 10,
   "metadata": {},
   "outputs": [],
   "source": [
    "bact_synthesis_combined_df.to_csv('predicted-bacterial-osmolyte-synthesis.tsv', sep='\\t')\n",
    "mmetsp_synthesis_combined_df.to_csv('predicted-mmetsp-osmolyte-synthesis.tsv', sep='\\t')"
   ]
  }
 ],
 "metadata": {
  "kernelspec": {
   "display_name": "Python [conda env:.conda-general_plotting] *",
   "language": "python",
   "name": "conda-env-.conda-general_plotting-py"
  },
  "language_info": {
   "codemirror_mode": {
    "name": "ipython",
    "version": 3
   },
   "file_extension": ".py",
   "mimetype": "text/x-python",
   "name": "python",
   "nbconvert_exporter": "python",
   "pygments_lexer": "ipython3",
   "version": "3.6.12"
  }
 },
 "nbformat": 4,
 "nbformat_minor": 4
}
